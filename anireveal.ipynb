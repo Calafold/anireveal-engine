{
  "nbformat": 4,
  "nbformat_minor": 0,
  "metadata": {
    "colab": {
      "provenance": [],
      "authorship_tag": "ABX9TyOV6eesdQD/vjjHSKfd6NrU",
      "include_colab_link": true
    },
    "kernelspec": {
      "name": "python3",
      "display_name": "Python 3"
    },
    "language_info": {
      "name": "python"
    }
  },
  "cells": [
    {
      "cell_type": "markdown",
      "metadata": {
        "id": "view-in-github",
        "colab_type": "text"
      },
      "source": [
        "<a href=\"https://colab.research.google.com/github/Calafold/anireveal-engine/blob/main/anireveal.ipynb\" target=\"_parent\"><img src=\"https://colab.research.google.com/assets/colab-badge.svg\" alt=\"Open In Colab\"/></a>"
      ]
    },
    {
      "cell_type": "code",
      "execution_count": 41,
      "metadata": {
        "id": "CIU4Y3k1eF0x"
      },
      "outputs": [],
      "source": [
        "from google.colab import userdata\n",
        "from supabase import create_client, Client\n",
        "\n",
        "url: str = userdata.get(\"SUPABASE_URL\")\n",
        "key: str = userdata.get(\"SUPABASE_KEY\")\n",
        "supabase: Client = create_client(url, key)"
      ]
    },
    {
      "cell_type": "code",
      "source": [
        "response = (\n",
        "    supabase.table(\"clues\")\n",
        "    .select(\"*\")\n",
        "    .execute()\n",
        ")\n",
        "\n",
        "print(response)"
      ],
      "metadata": {
        "colab": {
          "base_uri": "https://localhost:8080/"
        },
        "id": "snjizmlSoFx6",
        "outputId": "350f0390-23ac-4222-fd6f-ab219c1add49"
      },
      "execution_count": 44,
      "outputs": [
        {
          "output_type": "stream",
          "name": "stdout",
          "text": [
            "data=[{'id': 1, 'created_at': '2025-08-30T01:39:08+00:00', 'character_name': 'Naruto', 'anime_title': 'Naruto', 'difficulty_level': 1, 'description': 'I love to say \"datebayo!\"'}] count=None\n"
          ]
        }
      ]
    },
    {
      "cell_type": "code",
      "source": [],
      "metadata": {
        "id": "fsDEUVfooUq7"
      },
      "execution_count": null,
      "outputs": []
    }
  ]
}