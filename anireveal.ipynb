{
  "nbformat": 4,
  "nbformat_minor": 0,
  "metadata": {
    "colab": {
      "provenance": [],
      "collapsed_sections": [
        "MyYersTwyOkn",
        "9gJ1z2HmGiGV",
        "QOKCHsZaGw90",
        "LSnG_83XtbfE"
      ],
      "include_colab_link": true
    },
    "kernelspec": {
      "name": "python3",
      "display_name": "Python 3"
    },
    "language_info": {
      "name": "python"
    }
  },
  "cells": [
    {
      "cell_type": "markdown",
      "metadata": {
        "id": "view-in-github",
        "colab_type": "text"
      },
      "source": [
        "<a href=\"https://colab.research.google.com/github/Calafold/anireveal-engine/blob/main/anireveal.ipynb\" target=\"_parent\"><img src=\"https://colab.research.google.com/assets/colab-badge.svg\" alt=\"Open In Colab\"/></a>"
      ]
    },
    {
      "cell_type": "markdown",
      "source": [
        "# Proof of Concept for AI-powered Anime Guessing game\n",
        "\n"
      ],
      "metadata": {
        "id": "ams6ZyN_pnH0"
      }
    },
    {
      "cell_type": "markdown",
      "source": [
        "## Install and import relevant packages"
      ],
      "metadata": {
        "id": "MyYersTwyOkn"
      }
    },
    {
      "cell_type": "code",
      "execution_count": null,
      "metadata": {
        "id": "CIU4Y3k1eF0x",
        "collapsed": true
      },
      "outputs": [],
      "source": [
        "# Installs\n",
        "%pip install supabase\n",
        "%pip install google-generativeai\n",
        "\n",
        "# Imports\n",
        "from google.colab import userdata\n",
        "from supabase import create_client, Client\n",
        "import requests\n",
        "import time\n",
        "import json\n",
        "import google.generativeai as genai"
      ]
    },
    {
      "cell_type": "markdown",
      "source": [
        "## Connect to database and setup Gemini API\n",
        "\n"
      ],
      "metadata": {
        "id": "9gJ1z2HmGiGV"
      }
    },
    {
      "cell_type": "code",
      "source": [
        "# Connection to supabase\n",
        "url: str = userdata.get(\"SUPABASE_URL\")\n",
        "key: str = userdata.get(\"SUPABASE_KEY\")\n",
        "supabase: Client = create_client(url, key)\n",
        "\n",
        "# Configure the Gemini API with your API key\n",
        "genai.configure(api_key=userdata.get(\"GOOGLE_GEMINI_API_KEY\"))\n",
        "model = genai.GenerativeModel('gemini-1.5-flash')"
      ],
      "metadata": {
        "id": "snjizmlSoFx6",
        "collapsed": true
      },
      "execution_count": 11,
      "outputs": []
    },
    {
      "cell_type": "markdown",
      "source": [
        "## Populate the database with Anime list of top 100"
      ],
      "metadata": {
        "id": "QOKCHsZaGw90"
      }
    },
    {
      "cell_type": "code",
      "source": [
        "def populate_anime_table():\n",
        "    \"\"\"\n",
        "    Fetches the top 100 anime from the Jikan API and populates the\n",
        "    'anime' table in the Supabase database using upsert.\n",
        "    \"\"\"\n",
        "    anime_list = []\n",
        "\n",
        "    # Jikan API returns 25 results per page. Loop through 4 pages for the top 100.\n",
        "    for page in range(1, 5):\n",
        "        try:\n",
        "            response = requests.get(f\"https://api.jikan.moe/v4/top/anime?page={page}\")\n",
        "            response.raise_for_status()  # Raise an exception for bad status codes\n",
        "            data = response.json()\n",
        "            for anime in data['data']:\n",
        "                anime_list.append({\n",
        "                    \"id\": anime['mal_id'],\n",
        "                    \"title\": anime['title'],\n",
        "                    \"image_url\": anime['images']['jpg']['image_url']\n",
        "                })\n",
        "            print(f\"Fetched page {page} of top anime.\")\n",
        "            time.sleep(1) # Respect API rate limits\n",
        "\n",
        "        except requests.exceptions.RequestException as e:\n",
        "            print(f\"Error fetching top anime from page {page}: {e}\")\n",
        "            break\n",
        "\n",
        "    if anime_list:\n",
        "        try:\n",
        "            supabase.table(\"anime\").upsert(anime_list, on_conflict=\"id\").execute()\n",
        "            print(\"Successfully populated the 'anime' table with the top 100 entries.\")\n",
        "        except Exception as e:\n",
        "            print(f\"Error upserting anime data into Supabase: {e}\")\n",
        "    else:\n",
        "        print(\"No anime data to insert.\")\n",
        "\n",
        "\n",
        "populate_anime_table()"
      ],
      "metadata": {
        "id": "fsDEUVfooUq7"
      },
      "execution_count": null,
      "outputs": []
    },
    {
      "cell_type": "markdown",
      "source": [
        "## Populate the database with the list of characters for each anime"
      ],
      "metadata": {
        "id": "LSnG_83XtbfE"
      }
    },
    {
      "cell_type": "code",
      "source": [
        "def populate_characters_table():\n",
        "    \"\"\"\n",
        "    Fetches characters for all anime in the database and populates the\n",
        "    'characters' table using upsert.\n",
        "    \"\"\"\n",
        "    anime_ids_response = supabase.table(\"anime\").select(\"id\").execute()\n",
        "    anime_ids = [a['id'] for a in anime_ids_response.data]\n",
        "\n",
        "    for anime_id in anime_ids:\n",
        "        try:\n",
        "            response = requests.get(f\"https://api.jikan.moe/v4/anime/{anime_id}/characters\")\n",
        "            response.raise_for_status()\n",
        "            characters_data = response.json()['data']\n",
        "\n",
        "            characters_to_insert = []\n",
        "            for char_entry in characters_data:\n",
        "                # Filter for main characters with an image\n",
        "                if char_entry['role'] == 'Main' and 'jpg' in char_entry['character']['images']:\n",
        "                    character_info = char_entry['character']\n",
        "                    characters_to_insert.append({\n",
        "                        \"id\": character_info['mal_id'],\n",
        "                        \"name\": character_info['name'],\n",
        "                        \"anime_id\": anime_id,\n",
        "                        \"image_url\": character_info['images']['jpg']['image_url']\n",
        "                    })\n",
        "\n",
        "            if characters_to_insert:\n",
        "                supabase.table(\"characters\").upsert(characters_to_insert, on_conflict=\"id\").execute()\n",
        "                print(f\"Upserted {len(characters_to_insert)} characters for anime ID {anime_id}\")\n",
        "\n",
        "        except requests.exceptions.RequestException as e:\n",
        "            print(f\"Error fetching/upserting characters for anime ID {anime_id}: {e}\")\n",
        "\n",
        "        time.sleep(1) # Respect API rate limits\n",
        "\n",
        "\n",
        "populate_characters_table()"
      ],
      "metadata": {
        "id": "tVMpeBG9rKSt"
      },
      "execution_count": null,
      "outputs": []
    },
    {
      "cell_type": "markdown",
      "source": [
        "## Generate clues using ai and populate database with clues"
      ],
      "metadata": {
        "id": "-WV4O9tethks"
      }
    },
    {
      "cell_type": "code",
      "source": [
        "def generate_and_populate_clues():\n",
        "    \"\"\"\n",
        "    Generates AI clues for each character and populates the 'clues' table using upsert.\n",
        "    \"\"\"\n",
        "    characters_response = supabase.table(\"characters\").select(\"id\", \"name\", \"anime_id\").execute()\n",
        "    characters = characters_response.data\n",
        "    print(\"Characters fetched.\")\n",
        "\n",
        "    anime_titles_response = supabase.table(\"anime\").select(\"id\", \"title\").execute()\n",
        "    anime_titles = {a['id']: a['title'] for a in anime_titles_response.data}\n",
        "    print(\"Anime titles fetched.\")\n",
        "\n",
        "    for character in characters:\n",
        "        character_id = character['id']\n",
        "        character_name = character['name']\n",
        "        anime_id = character['anime_id']\n",
        "        anime_title = anime_titles.get(anime_id, \"Unknown Anime\")\n",
        "\n",
        "        prompt = f\"\"\"Generate 15 unique and distinct clues for the anime character named {character_name} from the anime {anime_title}.\n",
        "\n",
        "        The clues should be in increasing order of difficulty from 1 (easiest) to 5 (hardest). Provide 3 different clues for each difficulty level.\n",
        "\n",
        "        Difficulty levels:\n",
        "        - **Level 1 (Beginner)**: Very direct, common knowledge.\n",
        "        - **Level 2 (Novice)**: Common, but requires a bit more thought.\n",
        "        - **Level 3 (Intermediate)**: Relates to a major plot point or personality trait.\n",
        "        - **Level 4 (Advanced)**: Specific, related to an obscure power or a less-known fact.\n",
        "        - **Level 5 (Expert)**: Extremely difficult, may relate to their voice actor, a minor character they interacted with, or a subtle design detail.\n",
        "\n",
        "        Format the output as a JSON object with a single key 'clues'. The value for 'clues' should be an array of objects. Each object in the array must have two keys: 'difficulty' (an integer from 1 to 5) and 'text' (the clue as a string).\n",
        "\n",
        "        Example Output:\n",
        "        {{\n",
        "            \"clues\": [\n",
        "                {{\n",
        "                    \"difficulty\": 1,\n",
        "                    \"text\": \"My hair is yellow and spiky and I am a ninja.\"\n",
        "                }},\n",
        "                {{\n",
        "                    \"difficulty\": 1,\n",
        "                    \"text\": \"I am the hero from the anime, Naruto.\"\n",
        "                }},\n",
        "                {{\n",
        "                    \"difficulty\": 1,\n",
        "                    \"text\": \"My catchphrase is 'Believe it!'\"\n",
        "                }},\n",
        "                {{\n",
        "                    \"difficulty\": 2,\n",
        "                    \"text\": \"I am part of Team 7 with Sakura Haruno and Sasuke Uchiha.\"\n",
        "                }},\n",
        "                {{\n",
        "                    \"difficulty\": 2,\n",
        "                    \"text\": \"I was taught my signature move, the Rasengan, by Jiraiya.\"\n",
        "                }},\n",
        "                {{\n",
        "                    \"difficulty\": 2,\n",
        "                    \"text\": \"I'm the main character in the series about a ninja village.\"\n",
        "                }}\n",
        "            ]\n",
        "        }}\n",
        "\n",
        "        Your response must ONLY be the JSON object. Do not include any other text or explanation outside of the JSON.\"\"\"\n",
        "\n",
        "        try:\n",
        "            start_api_call_time = time.time()\n",
        "            # Increase the timeout for the API call\n",
        "            response = model.generate_content(prompt, request_options={'timeout': 1200}) # Increased timeout to 1200 seconds\n",
        "            end_api_call_time = time.time()\n",
        "            api_call_duration = end_api_call_time - start_api_call_time\n",
        "            print(f\"API call for {character_name} took {api_call_duration:.2f} seconds.\")\n",
        "\n",
        "\n",
        "            clues_json_str = response.text.strip().replace(\"```json\\n\", \"\").replace(\"\\n```\", \"\")\n",
        "            clues_data = json.loads(clues_json_str)\n",
        "\n",
        "            clues_to_insert = []\n",
        "            for clue in clues_data['clues']:\n",
        "                clues_to_insert.append({\n",
        "                    \"character_id\": character_id,\n",
        "                    \"clue_text\": clue[\"text\"],\n",
        "                    \"difficulty_level\": clue[\"difficulty\"]\n",
        "                })\n",
        "\n",
        "            start_db_upsert_time = time.time()\n",
        "            supabase.table(\"clues\").upsert(clues_to_insert, on_conflict=\"character_id, difficulty_level\").execute()\n",
        "            end_db_upsert_time = time.time()\n",
        "            db_upsert_duration = end_db_upsert_time - start_db_upsert_time\n",
        "            print(f\"Database upsert for {character_name} took {db_upsert_duration:.2f} seconds.\")\n",
        "\n",
        "        except Exception as e:\n",
        "            print(f\"Error processing {character_name}: {e}\")\n",
        "\n",
        "        time.sleep(1)\n",
        "\n",
        "start_time = time.time()\n",
        "generate_and_populate_clues()\n",
        "end_time = time.time()\n",
        "total_duration = end_time - start_time\n",
        "\n",
        "print(f\"Total execution time: {total_duration:.2f} seconds.\")"
      ],
      "metadata": {
        "id": "1fXyMw5hrh6K"
      },
      "execution_count": null,
      "outputs": []
    },
    {
      "cell_type": "markdown",
      "source": [],
      "metadata": {
        "id": "uTax25KBuPRy"
      }
    }
  ]
}