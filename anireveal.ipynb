{
  "nbformat": 4,
  "nbformat_minor": 0,
  "metadata": {
    "colab": {
      "provenance": [],
      "collapsed_sections": [
        "MyYersTwyOkn",
        "9gJ1z2HmGiGV",
        "QOKCHsZaGw90",
        "LSnG_83XtbfE"
      ],
      "include_colab_link": true
    },
    "kernelspec": {
      "name": "python3",
      "display_name": "Python 3"
    },
    "language_info": {
      "name": "python"
    }
  },
  "cells": [
    {
      "cell_type": "markdown",
      "metadata": {
        "id": "view-in-github",
        "colab_type": "text"
      },
      "source": [
        "<a href=\"https://colab.research.google.com/github/Calafold/anireveal-engine/blob/main/anireveal.ipynb\" target=\"_parent\"><img src=\"https://colab.research.google.com/assets/colab-badge.svg\" alt=\"Open In Colab\"/></a>"
      ]
    },
    {
      "cell_type": "markdown",
      "source": [
        "# Proof of Concept for AI-powered Anime Guessing game\n",
        "\n"
      ],
      "metadata": {
        "id": "ams6ZyN_pnH0"
      }
    },
    {
      "cell_type": "markdown",
      "source": [
        "## Install and import relevant packages"
      ],
      "metadata": {
        "id": "MyYersTwyOkn"
      }
    },
    {
      "cell_type": "code",
      "execution_count": null,
      "metadata": {
        "id": "CIU4Y3k1eF0x",
        "collapsed": true
      },
      "outputs": [],
      "source": [
        "# Installs\n",
        "%pip install supabase\n",
        "%pip install google-generativeai\n",
        "\n",
        "# Imports\n",
        "from google.colab import userdata\n",
        "from supabase import create_client, Client\n",
        "import requests\n",
        "import time\n",
        "import json\n",
        "import google.generativeai as genai"
      ]
    },
    {
      "cell_type": "markdown",
      "source": [
        "## Connect to database and setup Gemini API\n",
        "\n"
      ],
      "metadata": {
        "id": "9gJ1z2HmGiGV"
      }
    },
    {
      "cell_type": "code",
      "source": [
        "# Connection to supabase\n",
        "url: str = userdata.get(\"SUPABASE_URL\")\n",
        "key: str = userdata.get(\"SUPABASE_KEY\")\n",
        "supabase: Client = create_client(url, key)\n",
        "\n",
        "# Configure the Gemini API with your API key\n",
        "genai.configure(api_key=userdata.get(\"GOOGLE_GEMINI_API_KEY\"))\n",
        "model = genai.GenerativeModel('gemini-1.5-flash')"
      ],
      "metadata": {
        "id": "snjizmlSoFx6",
        "collapsed": true
      },
      "execution_count": 11,
      "outputs": []
    },
    {
      "cell_type": "markdown",
      "source": [
        "## Populate the database with Anime list of top 100"
      ],
      "metadata": {
        "id": "QOKCHsZaGw90"
      }
    },
    {
      "cell_type": "code",
      "source": [
        "def populate_anime_table():\n",
        "    \"\"\"\n",
        "    Fetches the top 100 anime from the Jikan API and populates the\n",
        "    'anime' table in the Supabase database using upsert.\n",
        "    \"\"\"\n",
        "    anime_list = []\n",
        "\n",
        "    # Jikan API returns 25 results per page. Loop through 4 pages for the top 100.\n",
        "    for page in range(1, 5):\n",
        "        try:\n",
        "            response = requests.get(f\"https://api.jikan.moe/v4/top/anime?page={page}\")\n",
        "            response.raise_for_status()  # Raise an exception for bad status codes\n",
        "            data = response.json()\n",
        "            for anime in data['data']:\n",
        "                anime_list.append({\n",
        "                    \"id\": anime['mal_id'],\n",
        "                    \"title\": anime['title'],\n",
        "                    \"image_url\": anime['images']['jpg']['image_url']\n",
        "                })\n",
        "            print(f\"Fetched page {page} of top anime.\")\n",
        "            time.sleep(1) # Respect API rate limits\n",
        "\n",
        "        except requests.exceptions.RequestException as e:\n",
        "            print(f\"Error fetching top anime from page {page}: {e}\")\n",
        "            break\n",
        "\n",
        "    if anime_list:\n",
        "        try:\n",
        "            supabase.table(\"anime\").upsert(anime_list, on_conflict=\"id\").execute()\n",
        "            print(\"Successfully populated the 'anime' table with the top 100 entries.\")\n",
        "        except Exception as e:\n",
        "            print(f\"Error upserting anime data into Supabase: {e}\")\n",
        "    else:\n",
        "        print(\"No anime data to insert.\")\n",
        "\n",
        "\n",
        "populate_anime_table()"
      ],
      "metadata": {
        "id": "fsDEUVfooUq7"
      },
      "execution_count": null,
      "outputs": []
    },
    {
      "cell_type": "markdown",
      "source": [
        "## Populate the database with the list of characters for each anime"
      ],
      "metadata": {
        "id": "LSnG_83XtbfE"
      }
    },
    {
      "cell_type": "code",
      "source": [
        "def populate_characters_table():\n",
        "    \"\"\"\n",
        "    Fetches characters for all anime in the database and populates the\n",
        "    'characters' table using upsert.\n",
        "    \"\"\"\n",
        "    anime_ids_response = supabase.table(\"anime\").select(\"id\").execute()\n",
        "    anime_ids = [a['id'] for a in anime_ids_response.data]\n",
        "\n",
        "    for anime_id in anime_ids:\n",
        "        try:\n",
        "            response = requests.get(f\"https://api.jikan.moe/v4/anime/{anime_id}/characters\")\n",
        "            response.raise_for_status()\n",
        "            characters_data = response.json()['data']\n",
        "\n",
        "            characters_to_insert = []\n",
        "            for char_entry in characters_data:\n",
        "                # Filter for main characters with an image\n",
        "                if char_entry['role'] == 'Main' and 'jpg' in char_entry['character']['images']:\n",
        "                    character_info = char_entry['character']\n",
        "                    characters_to_insert.append({\n",
        "                        \"id\": character_info['mal_id'],\n",
        "                        \"name\": character_info['name'],\n",
        "                        \"anime_id\": anime_id,\n",
        "                        \"image_url\": character_info['images']['jpg']['image_url']\n",
        "                    })\n",
        "\n",
        "            if characters_to_insert:\n",
        "                supabase.table(\"characters\").upsert(characters_to_insert, on_conflict=\"id\").execute()\n",
        "                print(f\"Upserted {len(characters_to_insert)} characters for anime ID {anime_id}\")\n",
        "\n",
        "        except requests.exceptions.RequestException as e:\n",
        "            print(f\"Error fetching/upserting characters for anime ID {anime_id}: {e}\")\n",
        "\n",
        "        time.sleep(1) # Respect API rate limits\n",
        "\n",
        "\n",
        "populate_characters_table()"
      ],
      "metadata": {
        "id": "tVMpeBG9rKSt"
      },
      "execution_count": null,
      "outputs": []
    },
    {
      "cell_type": "markdown",
      "source": [
        "## Generate clues using ai and populate database with clues"
      ],
      "metadata": {
        "id": "-WV4O9tethks"
      }
    },
    {
      "cell_type": "code",
      "source": [
        "def generate_and_populate_clues():\n",
        "    \"\"\"\n",
        "    Generates AI clues for each character and populates the 'clues' table using upsert.\n",
        "    \"\"\"\n",
        "    characters_response = supabase.table(\"characters\").select(\"id\", \"name\", \"anime_id\").execute()\n",
        "    characters = characters_response.data\n",
        "    print(\"Characters: \", characters)\n",
        "\n",
        "    anime_titles_response = supabase.table(\"anime\").select(\"id\", \"title\").execute()\n",
        "    anime_titles = {a['id']: a['title'] for a in anime_titles_response.data}\n",
        "    print(\"Anime titles: \", anime_titles)\n",
        "\n",
        "    for character in characters:\n",
        "        character_id = character['id']\n",
        "        character_name = character['name']\n",
        "        anime_id = character['anime_id']\n",
        "        anime_title = anime_titles.get(anime_id, \"Unknown Anime\")\n",
        "\n",
        "        # The prompt is updated to request 15 clues, 3 per difficulty level\n",
        "        prompt = f\"\"\"Generate 15 unique and distinct clues for the anime character named {character_name} from the anime {anime_title}.\n",
        "\n",
        "        The clues should be in increasing order of difficulty from 1 (easiest) to 5 (hardest). Provide 3 different clues for each difficulty level.\n",
        "\n",
        "        Difficulty levels:\n",
        "        - **Level 1 (Beginner)**: Very direct, common knowledge.\n",
        "        - **Level 2 (Novice)**: Common, but requires a bit more thought.\n",
        "        - **Level 3 (Intermediate)**: Relates to a major plot point or personality trait.\n",
        "        - **Level 4 (Advanced)**: Specific, related to an obscure power or a less-known fact.\n",
        "        - **Level 5 (Expert)**: Extremely difficult, may relate to their voice actor, a minor character they interacted with, or a subtle design detail.\n",
        "\n",
        "        Format the output as a JSON object with a single key 'clues'. The value for 'clues' should be an array of objects. Each object in the array must have two keys: 'difficulty' (an integer from 1 to 5) and 'text' (the clue as a string).\n",
        "\n",
        "        Example Output:\n",
        "        {{\n",
        "            \"clues\": [\n",
        "                {{\n",
        "                    \"difficulty\": 1,\n",
        "                    \"text\": \"My hair is yellow and spiky and I am a ninja.\"\n",
        "                }},\n",
        "                {{\n",
        "                    \"difficulty\": 1,\n",
        "                    \"text\": \"I am the hero from the anime, Naruto.\"\n",
        "                }},\n",
        "                {{\n",
        "                    \"difficulty\": 1,\n",
        "                    \"text\": \"My catchphrase is 'Believe it!'\"\n",
        "                }},\n",
        "                {{\n",
        "                    \"difficulty\": 2,\n",
        "                    \"text\": \"I am part of Team 7 with Sakura Haruno and Sasuke Uchiha.\"\n",
        "                }},\n",
        "                {{\n",
        "                    \"difficulty\": 2,\n",
        "                    \"text\": \"I was taught my signature move, the Rasengan, by Jiraiya.\"\n",
        "                }},\n",
        "                {{\n",
        "                    \"difficulty\": 2,\n",
        "                    \"text\": \"I'm the main character in the series about a ninja village.\"\n",
        "                }}\n",
        "            ]\n",
        "        }}\n",
        "\n",
        "        Your response must ONLY be the JSON object. Do not include any other text or explanation outside of the JSON.\"\"\"\n",
        "\n",
        "        try:\n",
        "            response = model.generate_content(prompt)\n",
        "            print(response)\n",
        "\n",
        "            # Extract and parse the JSON from the model's response\n",
        "            clues_json_str = response.text.strip().replace(\"```json\\n\", \"\").replace(\"\\n```\", \"\")\n",
        "            clues_data = json.loads(clues_json_str)\n",
        "\n",
        "            # Prepare clues for insertion into the Supabase table\n",
        "            clues_to_insert = []\n",
        "            for clue in clues_data['clues']:\n",
        "                clues_to_insert.append({\n",
        "                    \"character_id\": character_id,\n",
        "                    \"clue_text\": clue[\"text\"],\n",
        "                    \"difficulty_level\": clue[\"difficulty\"]\n",
        "                })\n",
        "\n",
        "            print(clues_to_insert)\n",
        "            supabase.table(\"clues\").upsert(clues_to_insert, on_conflict=\"character_id, difficulty_level\").execute()\n",
        "            print(f\"Upserted clues for {character_name}\")\n",
        "\n",
        "        except Exception as e:\n",
        "            print(f\"Error upserting clues for {character_name}: {e}\")\n",
        "\n",
        "        time.sleep(1)\n",
        "\n",
        "\n",
        "generate_and_populate_clues()"
      ],
      "metadata": {
        "id": "1fXyMw5hrh6K",
        "colab": {
          "base_uri": "https://localhost:8080/",
          "height": 385
        },
        "outputId": "aa568f4f-3184-45cc-e9ae-95dd036f327e"
      },
      "execution_count": 16,
      "outputs": [
        {
          "output_type": "stream",
          "name": "stdout",
          "text": [
            "Characters:  [{'id': 45627, 'name': 'Levi', 'anime_id': 38524}, {'id': 30, 'name': 'Freecss, Gon', 'anime_id': 11061}, {'id': 564, 'name': 'Ishida, Uryuu', 'anime_id': 56784}, {'id': 28, 'name': 'Kurapika', 'anime_id': 11061}, {'id': 29, 'name': 'Paladiknight, Leorio', 'anime_id': 11061}, {'id': 3869, 'name': 'Attenborough, Dusty', 'anime_id': 820}, {'id': 674, 'name': 'Kagura', 'anime_id': 39486}, {'id': 27, 'name': 'Zoldyck, Killua', 'anime_id': 11061}, {'id': 1533, 'name': 'Katsura, Kotarou', 'anime_id': 34096}, {'id': 136359, 'name': 'Shinomiya, Kaguya', 'anime_id': 52198}, {'id': 17789, 'name': 'Greenhill, Frederica', 'anime_id': 820}, {'id': 5, 'name': 'Kurosaki, Ichigo', 'anime_id': 56784}, {'id': 40881, 'name': 'Ackerman, Mikasa', 'anime_id': 59571}, {'id': 46494, 'name': 'Arlert, Armin', 'anime_id': 59571}, {'id': 672, 'name': 'Sakata, Gintoki', 'anime_id': 39486}, {'id': 673, 'name': 'Shimura, Shinpachi', 'anime_id': 39486}, {'id': 40882, 'name': 'Yeager, Eren', 'anime_id': 59571}, {'id': 257441, 'name': 'Girl', 'anime_id': 60022}, {'id': 12550, 'name': 'Kircheis, Siegfried', 'anime_id': 820}, {'id': 12779, 'name': 'Minci, Julian', 'anime_id': 820}, {'id': 257446, 'name': 'Marine Older Brother', 'anime_id': 60022}, {'id': 12778, 'name': 'Mittermeyer, Wolfgang', 'anime_id': 820}, {'id': 3066, 'name': 'von Lohengramm, Reinhard', 'anime_id': 820}, {'id': 12, 'name': 'Elric, Alphonse', 'anime_id': 5114}, {'id': 11, 'name': 'Elric, Edward', 'anime_id': 5114}, {'id': 35258, 'name': 'Hashida, Itaru', 'anime_id': 9253}, {'id': 34470, 'name': 'Makise, Kurisu', 'anime_id': 9253}, {'id': 35252, 'name': 'Okabe, Rintarou', 'anime_id': 9253}, {'id': 35253, 'name': 'Shiina, Mayuri', 'anime_id': 9253}, {'id': 2948, 'name': 'Takasugi, Shinsuke', 'anime_id': 34096}, {'id': 140810, 'name': 'Fujiwara, Chika', 'anime_id': 43608}, {'id': 152052, 'name': 'Iino, Miko', 'anime_id': 43608}, {'id': 143185, 'name': 'Ishigami, Yuu', 'anime_id': 43608}, {'id': 12911, 'name': 'von Mariendorf, Hildegard', 'anime_id': 820}, {'id': 136685, 'name': 'Shirogane, Miyuki', 'anime_id': 52198}, {'id': 188176, 'name': 'Fern', 'anime_id': 52991}, {'id': 184947, 'name': 'Frieren', 'anime_id': 52991}, {'id': 188177, 'name': 'Stark', 'anime_id': 52991}, {'id': 12898, 'name': 'von Oberstein, Paul', 'anime_id': 820}, {'id': 1111, 'name': 'C.C.', 'anime_id': 2904}, {'id': 559, 'name': 'Kururugi, Suzaku', 'anime_id': 2904}, {'id': 80491, 'name': 'Ishida, Shouya', 'anime_id': 28851}, {'id': 28030, 'name': 'Einar', 'anime_id': 49387}, {'id': 208070, 'name': 'Kuze, Shizuka', 'anime_id': 60489}, {'id': 125034, 'name': 'Ekubo', 'anime_id': 50172}, {'id': 4604, 'name': 'Furukawa, Nagisa', 'anime_id': 4181}, {'id': 80243, 'name': 'Nishimiya, Shouko', 'anime_id': 28851}, {'id': 10342, 'name': 'Okazaki, Ushio', 'anime_id': 4181}, {'id': 146156, 'name': 'Kamado, Tanjirou', 'anime_id': 59192}, {'id': 65407, 'name': 'He Liao, Diao', 'anime_id': 53223}, {'id': 65445, 'name': 'Lei, Qiang', 'anime_id': 53223}, {'id': 208263, 'name': 'Takopii', 'anime_id': 60489}, {'id': 152271, 'name': 'Bougainvillea, Gilbert', 'anime_id': 37987}, {'id': 156096, 'name': 'Jinshi', 'anime_id': 58514}, {'id': 22052, 'name': 'Hachikuji, Mayoi', 'anime_id': 35247}, {'id': 90393, 'name': 'Oshino, Ougi', 'anime_id': 35247}, {'id': 64769, 'name': 'Hinata, Shouyou', 'anime_id': 52742}, {'id': 207, 'name': 'Honda, Tooru', 'anime_id': 42938}, {'id': 64771, 'name': 'Kageyama, Tobio', 'anime_id': 52742}, {'id': 22055, 'name': 'Hanekawa, Tsubasa', 'anime_id': 31758}, {'id': 720, 'name': 'Liebert, Anna', 'anime_id': 19}, {'id': 719, 'name': 'Liebert, Johan', 'anime_id': 19}, {'id': 718, 'name': 'Tenma, Kenzou', 'anime_id': 19}, {'id': 25275, 'name': 'Kawamoto, Momo', 'anime_id': 35180}, {'id': 10138, 'name': 'Thorfinn', 'anime_id': 49387}, {'id': 137467, 'name': 'Miyamizu, Mitsuha', 'anime_id': 32281}, {'id': 64573, 'name': 'Xin', 'anime_id': 53223}, {'id': 22036, 'name': 'Araragi, Koyomi', 'anime_id': 57864}, {'id': 155904, 'name': 'Maomao', 'anime_id': 58514}, {'id': 846, 'name': 'Aoki, Masaru', 'anime_id': 5258}, {'id': 10156, 'name': 'Kamogawa, Genji', 'anime_id': 5258}, {'id': 847, 'name': 'Kimura, Tatsuya', 'anime_id': 5258}, {'id': 109929, 'name': 'Kageyama, Shigeo', 'anime_id': 50172}, {'id': 24312, 'name': 'Kawamoto, Hinata', 'anime_id': 35180}, {'id': 4606, 'name': 'Okazaki, Tomoya', 'anime_id': 4181}, {'id': 136805, 'name': 'Tachibana, Taki', 'anime_id': 32281}, {'id': 417, 'name': 'Lamperouge, Lelouch', 'anime_id': 2904}, {'id': 558, 'name': 'Stadtfeld, Kallen', 'anime_id': 2904}, {'id': 24311, 'name': 'Kawamoto, Akari', 'anime_id': 35180}, {'id': 21044, 'name': 'Kiriyama, Rei', 'anime_id': 35180}, {'id': 15, 'name': 'Makunouchi, Ippo', 'anime_id': 5258}, {'id': 141354, 'name': 'Evergarden, Violet', 'anime_id': 37987}, {'id': 374, 'name': 'Souma, Akito', 'anime_id': 42938}, {'id': 208, 'name': 'Souma, Yuki', 'anime_id': 42938}, {'id': 209, 'name': 'Souma, Kyou', 'anime_id': 42938}, {'id': 109931, 'name': 'Reigen, Arataka', 'anime_id': 50172}, {'id': 64109, 'name': 'Ying, Zheng', 'anime_id': 53223}, {'id': 3, 'name': 'Black, Jet', 'anime_id': 1}, {'id': 314, 'name': 'Akagi, Takenori', 'anime_id': 45649}, {'id': 313, 'name': 'Mitsui, Hisashi', 'anime_id': 45649}, {'id': 13020, 'name': 'Askeladd', 'anime_id': 37521}, {'id': 17438, 'name': 'Canute', 'anime_id': 37521}, {'id': 1, 'name': 'Spiegel, Spike', 'anime_id': 1}, {'id': 5627, 'name': 'Brook', 'anime_id': 21}, {'id': 64, 'name': 'Franky', 'anime_id': 21}, {'id': 18938, 'name': 'Jinbe', 'anime_id': 21}, {'id': 40, 'name': 'Monkey D., Luffy', 'anime_id': 21}, {'id': 385, 'name': 'Haku', 'anime_id': 199}, {'id': 384, 'name': 'Ogino, Chihiro', 'anime_id': 199}, {'id': 46051, 'name': 'Shiraki, Yoko', 'anime_id': 2921}, {'id': 46019, 'name': 'Tange, Danpei', 'anime_id': 2921}, {'id': 11804, 'name': 'Yabuki, Joe', 'anime_id': 2921}, {'id': 53641, 'name': 'Kaiki, Deishuu', 'anime_id': 17074}, {'id': 120017, 'name': 'Kousaka, Reina', 'anime_id': 39894}, {'id': 120015, 'name': 'Oumae, Kumiko', 'anime_id': 39894}, {'id': 22037, 'name': 'Senjougahara, Hitagi', 'anime_id': 35247}, {'id': 188037, 'name': 'Hoshino, Ai', 'anime_id': 55016}, {'id': 186921, 'name': 'Hoshino, Ruby', 'anime_id': 55016}, {'id': 312, 'name': 'Miyagi, Ryouta', 'anime_id': 45649}, {'id': 311, 'name': 'Rukawa, Kaede', 'anime_id': 45649}, {'id': 310, 'name': 'Sakuragi, Hanamichi', 'anime_id': 45649}, {'id': 206276, 'name': 'Gotou, Hitori', 'anime_id': 47917}, {'id': 206277, 'name': 'Ijichi, Nijika', 'anime_id': 47917}, {'id': 206279, 'name': 'Kita, Ikuyo', 'anime_id': 47917}, {'id': 206278, 'name': 'Yamada, Ryou', 'anime_id': 47917}, {'id': 196252, 'name': 'Cheng, Xiaoshi', 'anime_id': 49413}, {'id': 196253, 'name': 'Lu, Guang', 'anime_id': 49413}, {'id': 164470, 'name': 'Fushiguro, Megumi', 'anime_id': 51009}, {'id': 175542, 'name': 'Getou, Suguru', 'anime_id': 51009}, {'id': 164471, 'name': 'Gojou, Satoru', 'anime_id': 51009}, {'id': 163847, 'name': 'Itadori, Yuuji', 'anime_id': 51009}, {'id': 164472, 'name': 'Kugisaki, Nobara', 'anime_id': 51009}, {'id': 185313, 'name': 'Hoshino, Aquamarine', 'anime_id': 55016}, {'id': 229701, 'name': 'Hyuna', 'anime_id': 55255}, {'id': 229700, 'name': 'Ivan', 'anime_id': 55255}, {'id': 229499, 'name': 'Luka', 'anime_id': 55255}, {'id': 229497, 'name': 'Mizi', 'anime_id': 55255}, {'id': 229498, 'name': 'Sua', 'anime_id': 55255}, {'id': 229702, 'name': 'Till', 'anime_id': 55255}, {'id': 185229, 'name': 'Ichikawa, Kyoutarou', 'anime_id': 55690}, {'id': 182379, 'name': 'Yamada, Anna', 'anime_id': 55690}, {'id': 23602, 'name': 'Oshino, Shinobu', 'anime_id': 57864}, {'id': 119759, 'name': 'Yotarou', 'anime_id': 33095}, {'id': 147, 'name': 'Himura, Kenshin', 'anime_id': 44}, {'id': 2802, 'name': 'Ashitaka', 'anime_id': 164}, {'id': 2727, 'name': 'San', 'anime_id': 164}, {'id': 6232, 'name': 'Aizawa, Miyabi', 'anime_id': 245}, {'id': 508, 'name': 'Hatter, Sophie', 'anime_id': 431}, {'id': 507, 'name': 'Howl', 'anime_id': 431}, {'id': 119763, 'name': 'Yuurakutei, Yakumo', 'anime_id': 33095}, {'id': 5184, 'name': 'Itagaki, Manabu', 'anime_id': 5258}, {'id': 144582, 'name': 'Imamura, Kouhei', 'anime_id': 59986}, {'id': 425, 'name': 'Ginko', 'anime_id': 24701}, {'id': 496, 'name': 'Emiya, Shirou', 'anime_id': 33050}, {'id': 506, 'name': 'Kotomine, Kirei', 'anime_id': 33050}, {'id': 500, 'name': 'Matou, Sakura', 'anime_id': 33050}, {'id': 502, 'name': 'Rider', 'anime_id': 33050}, {'id': 498, 'name': 'Toosaka, Rin', 'anime_id': 33050}, {'id': 163084, 'name': 'Lan, Wangji', 'anime_id': 40434}, {'id': 163083, 'name': 'Wei, Wuxian', 'anime_id': 40434}, {'id': 146158, 'name': 'Agatsuma, Zenitsu', 'anime_id': 47778}, {'id': 146159, 'name': 'Hashibira, Inosuke', 'anime_id': 47778}, {'id': 146157, 'name': 'Kamado, Nezuko', 'anime_id': 47778}, {'id': 151144, 'name': 'Uzui, Tengen', 'anime_id': 47778}, {'id': 150824, 'name': 'Milizé, Vladilena', 'anime_id': 48569}, {'id': 150823, 'name': 'Nouzen, Shinei', 'anime_id': 48569}, {'id': 196254, 'name': 'Qiao, Ling', 'anime_id': 49413}, {'id': 124788, 'name': 'Kageyama, Ritsu', 'anime_id': 50172}, {'id': 175937, 'name': 'Hua, Cheng', 'anime_id': 50399}, {'id': 174773, 'name': 'Xie, Lian', 'anime_id': 50399}, {'id': 209990, 'name': 'Badeni', 'anime_id': 52215}, {'id': 266289, 'name': 'Brudzewski, Albert', 'anime_id': 52215}, {'id': 222723, 'name': 'Draka', 'anime_id': 52215}, {'id': 209988, 'name': 'Jolenta', 'anime_id': 52215}, {'id': 209986, 'name': 'Nowak', 'anime_id': 52215}, {'id': 222719, 'name': 'Oczy', 'anime_id': 52215}, {'id': 209983, 'name': 'Rafal', 'anime_id': 52215}, {'id': 138576, 'name': 'Deathtopia Virtuoso Suicide-Master', 'anime_id': 57864}, {'id': 57499, 'name': 'Ononoki, Yotsugi', 'anime_id': 57864}, {'id': 22050, 'name': 'Sengoku, Nadeko', 'anime_id': 57864}, {'id': 174185, 'name': 'Sung, Jin-Woo', 'anime_id': 58567}, {'id': 211617, 'name': 'Tsumugi, Rintarou', 'anime_id': 59845}, {'id': 211945, 'name': 'Waguri, Kaoruko', 'anime_id': 59845}, {'id': 144581, 'name': 'Kitahara, Iori', 'anime_id': 59986}, {'id': 145329, 'name': 'Kotegawa, Chisa', 'anime_id': 59986}, {'id': 148495, 'name': 'Yoshiwara, Aina', 'anime_id': 59986}, {'id': 20326, 'name': 'Hoshino, Yutaka', 'anime_id': 22135}, {'id': 20325, 'name': 'Tsukimoto, Makoto', 'anime_id': 22135}, {'id': 2, 'name': 'Valentine, Faye', 'anime_id': 1}, {'id': 16, 'name': 'Wong Hau Pepelu Tivrusky IV, Edward', 'anime_id': 1}, {'id': 723, 'name': 'Nami', 'anime_id': 21}, {'id': 61, 'name': 'Nico, Robin', 'anime_id': 21}, {'id': 62, 'name': 'Roronoa, Zoro', 'anime_id': 21}, {'id': 305, 'name': 'Sanji', 'anime_id': 21}, {'id': 309, 'name': 'Tony Tony, Chopper', 'anime_id': 21}, {'id': 724, 'name': 'Usopp', 'anime_id': 21}, {'id': 3529, 'name': 'Fuyutsuki, Azusa', 'anime_id': 245}, {'id': 455, 'name': 'Kanzaki, Urumi', 'anime_id': 245}, {'id': 3604, 'name': 'Kikuchi, Yoshito', 'anime_id': 245}, {'id': 4119, 'name': 'Murai, Kunio', 'anime_id': 245}, {'id': 6231, 'name': 'Nomura, Tomoko', 'anime_id': 245}, {'id': 434, 'name': 'Onizuka, Eikichi', 'anime_id': 245}, {'id': 6238, 'name': 'Uchiyamada, Hiroshi', 'anime_id': 245}, {'id': 5947, 'name': 'Yoshikawa, Noboru', 'anime_id': 245}, {'id': 140046, 'name': 'Reg', 'anime_id': 34599}, {'id': 6026, 'name': 'von Reuenthal, Oskar', 'anime_id': 820}, {'id': 5897, 'name': 'von Schönkopf, Walter', 'anime_id': 820}, {'id': 71, 'name': 'Lawliet, L', 'anime_id': 1535}, {'id': 75, 'name': 'Ryuk', 'anime_id': 1535}, {'id': 80, 'name': 'Yagami, Light', 'anime_id': 1535}, {'id': 2075, 'name': 'Kamina', 'anime_id': 2001}, {'id': 2063, 'name': 'Littner, Yoko', 'anime_id': 2001}, {'id': 2257, 'name': 'Simon', 'anime_id': 2001}, {'id': 845, 'name': 'Takamura, Mamoru', 'anime_id': 5258}, {'id': 137239, 'name': 'Riko', 'anime_id': 34599}, {'id': 69407, 'name': 'Arima, Kousei', 'anime_id': 23273}, {'id': 69411, 'name': 'Miyazono, Kaori', 'anime_id': 23273}, {'id': 69409, 'name': 'Sawabe, Tsubaki', 'anime_id': 23273}, {'id': 69405, 'name': 'Watari, Ryouta', 'anime_id': 23273}, {'id': 503, 'name': 'von Einzbern, Illyasviel', 'anime_id': 33050}, {'id': 13784, 'name': 'Madara', 'anime_id': 34591}, {'id': 13783, 'name': 'Natsume, Takashi', 'anime_id': 34591}, {'id': 62481, 'name': 'Lenz, Krista', 'anime_id': 35760}, {'id': 111245, 'name': 'Greyrat, Rudeus', 'anime_id': 45576}, {'id': 111335, 'name': 'Greyrat, Eris Boreas', 'anime_id': 45576}, {'id': 111739, 'name': 'Superdia, Ruijerd', 'anime_id': 45576}, {'id': 191215, 'name': 'Odokawa, Hiroshi', 'anime_id': 46102}, {'id': 233866, 'name': 'Moretti, Klein', 'anime_id': 49818}, {'id': 71267, 'name': 'Kozume, Kenma', 'anime_id': 52742}, {'id': 71269, 'name': 'Kuroo, Tetsurou', 'anime_id': 52742}, {'id': 125056, 'name': 'Dazai, Osamu', 'anime_id': 54898}, {'id': 125055, 'name': 'Nakajima, Atsushi', 'anime_id': 54898}, {'id': 199011, 'name': 'Agnes Tachyon', 'anime_id': 57647}, {'id': 239395, 'name': 'Jungle Pocket', 'anime_id': 57647}, {'id': 199287, 'name': 'Fujino, Ayumu', 'anime_id': 58125}, {'id': 199997, 'name': 'Kyoumoto', 'anime_id': 58125}, {'id': 2780, 'name': 'Yang, Wen-li', 'anime_id': 820}, {'id': 2761, 'name': 'Teppelin, Nia', 'anime_id': 2001}, {'id': 222724, 'name': 'Schmitt', 'anime_id': 52215}]\n",
            "Anime titles:  {32281: 'Kimi no Na wa.', 49387: 'Vinland Saga Season 2', 36838: 'Gintama. Shirogane no Tamashii-hen', 59192: 'Kimetsu no Yaiba Movie: Mugen Jou-hen', 37510: 'Mob Psycho 100 II', 31758: 'Kizumonogatari III: Reiketsu-hen', 40028: 'Shingeki no Kyojin: The Final Season', 17074: 'Monogatari Series: Second Season', 1: 'Cowboy Bebop', 55690: 'Boku no Kokoro no Yabai Yatsu 2nd Season', 55255: 'Alien Stage', 52198: 'Kaguya-sama wa Kokurasetai: First Kiss wa Owaranai', 50160: 'Kingdom 4th Season', 51009: 'Jujutsu Kaisen 2nd Season', 21: 'One Piece', 55016: 'Idol', 53223: 'Kingdom 5th Season', 39894: 'Hibike! Euphonium 3', 24701: 'Mushishi Zoku Shou 2nd Season', 45649: 'The First Slam Dunk', 44074: 'Shiguang Dailiren', 48569: '86 Part 2', 59845: 'Kaoru Hana wa Rin to Saku', 50172: 'Mob Psycho 100 III', 47778: 'Kimetsu no Yaiba: Yuukaku-hen', 53998: 'Bleach: Sennen Kessen-hen - Ketsubetsu-tan', 52215: 'Chi. Chikyuu no Undou ni Tsuite', 33095: 'Shouwa Genroku Rakugo Shinjuu: Sukeroku Futatabi-hen', 1575: 'Code Geass: Hangyaku no Lelouch', 33352: 'Violet Evergarden', 44: 'Rurouni Kenshin: Meiji Kenkaku Romantan - Tsuioku-hen', 21939: 'Mushishi Zoku Shou', 245: 'Great Teacher Onizuka', 40434: 'Mo Dao Zu Shi: Wanjie Pian', 59986: 'Grand Blue Season 2', 56784: 'Bleach: Sennen Kessen-hen - Soukoku-tan', 5258: 'Hajime no Ippo: New Challenger', 431: 'Howl no Ugoku Shiro', 164: 'Mononoke Hime', 58567: 'Ore dake Level Up na Ken Season 2: Arise from the Shadow', 57864: 'Monogatari Series: Off & Monster Season', 49413: 'Shiguang Dailiren II', 457: 'Mushishi', 50399: 'Tian Guan Cifu Er', 33050: \"Fate/stay night Movie: Heaven's Feel - III. Spring Song\", 2001: 'Tengen Toppa Gurren Lagann', 46102: 'Odd Taxi', 23273: 'Shigatsu wa Kimi no Uso', 35760: 'Shingeki no Kyojin Season 3', 58125: 'Look Back', 49818: 'Guimi Zhi Zhu: Xiaochou Pian', 34599: 'Made in Abyss', 11665: 'Natsume Yuujinchou Shi', 45576: 'Mushoku Tensei: Isekai Ittara Honki Dasu Part 2', 57647: 'Uma Musume: Pretty Derby - Shin Jidai no Tobira', 54898: 'Bungou Stray Dogs 5th Season', 40591: 'Kaguya-sama wa Kokurasetai? Tensai-tachi no Renai Zunousen', 22135: 'Ping Pong the Animation', 1535: 'Death Note', 28891: 'Haikyuu!! Second Season', 52742: 'Haikyuu!! Movie: Gomisuteba no Kessen', 34591: 'Natsume Yuujinchou Roku', 52991: 'Sousou no Frieren', 5114: 'Fullmetal Alchemist: Brotherhood', 9253: 'Steins;Gate', 38524: 'Shingeki no Kyojin Season 3 Part 2', 28977: 'Gintama°', 39486: 'Gintama: The Final', 60022: 'One Piece Fan Letter', 11061: 'Hunter x Hunter (2011)', 9969: \"Gintama'\", 15417: \"Gintama': Enchousen\", 820: 'Ginga Eiyuu Densetsu', 41467: 'Bleach: Sennen Kessen-hen', 34096: 'Gintama.', 43608: 'Kaguya-sama wa Kokurasetai: Ultra Romantic', 42938: 'Fruits Basket: The Final', 4181: 'Clannad: After Story', 918: 'Gintama', 28851: 'Koe no Katachi', 58514: 'Kusuriya no Hitorigoto 2nd Season', 2904: 'Code Geass: Hangyaku no Lelouch R2', 35180: '3-gatsu no Lion 2nd Season', 15335: 'Gintama Movie 2: Kanketsu-hen - Yorozuya yo Eien Nare', 19: 'Monster', 37491: 'Gintama. Shirogane no Tamashii-hen - Kouhan-sen', 60489: 'Takopii no Genzai', 54492: 'Kusuriya no Hitorigoto', 51535: 'Shingeki no Kyojin: The Final Season - Kanketsu-hen', 35247: 'Owarimonogatari 2nd Season', 37987: 'Violet Evergarden Movie', 59571: 'Shingeki no Kyojin Movie: Kanketsu-hen - The Last Attack', 40682: 'Kingdom 3rd Season', 263: 'Hajime no Ippo', 32935: 'Haikyuu!! Karasuno Koukou vs. Shiratorizawa Gakuen Koukou', 37521: 'Vinland Saga', 199: 'Sen to Chihiro no Kamikakushi', 48583: 'Shingeki no Kyojin: The Final Season Part 2', 2921: 'Ashita no Joe 2', 47917: 'Bocchi the Rock!'}\n"
          ]
        },
        {
          "output_type": "error",
          "ename": "KeyboardInterrupt",
          "evalue": "",
          "traceback": [
            "\u001b[0;31m---------------------------------------------------------------------------\u001b[0m",
            "\u001b[0;31mKeyboardInterrupt\u001b[0m                         Traceback (most recent call last)",
            "\u001b[0;32m/tmp/ipython-input-1687289316.py\u001b[0m in \u001b[0;36m<cell line: 0>\u001b[0;34m()\u001b[0m\n\u001b[1;32m     90\u001b[0m \u001b[0;34m\u001b[0m\u001b[0m\n\u001b[1;32m     91\u001b[0m \u001b[0;34m\u001b[0m\u001b[0m\n\u001b[0;32m---> 92\u001b[0;31m \u001b[0mgenerate_and_populate_clues\u001b[0m\u001b[0;34m(\u001b[0m\u001b[0;34m)\u001b[0m\u001b[0;34m\u001b[0m\u001b[0;34m\u001b[0m\u001b[0m\n\u001b[0m",
            "\u001b[0;32m/tmp/ipython-input-1687289316.py\u001b[0m in \u001b[0;36mgenerate_and_populate_clues\u001b[0;34m()\u001b[0m\n\u001b[1;32m     64\u001b[0m \u001b[0;34m\u001b[0m\u001b[0m\n\u001b[1;32m     65\u001b[0m         \u001b[0;32mtry\u001b[0m\u001b[0;34m:\u001b[0m\u001b[0;34m\u001b[0m\u001b[0;34m\u001b[0m\u001b[0m\n\u001b[0;32m---> 66\u001b[0;31m             \u001b[0mresponse\u001b[0m \u001b[0;34m=\u001b[0m \u001b[0mmodel\u001b[0m\u001b[0;34m.\u001b[0m\u001b[0mgenerate_content\u001b[0m\u001b[0;34m(\u001b[0m\u001b[0mprompt\u001b[0m\u001b[0;34m)\u001b[0m\u001b[0;34m\u001b[0m\u001b[0;34m\u001b[0m\u001b[0m\n\u001b[0m\u001b[1;32m     67\u001b[0m             \u001b[0mprint\u001b[0m\u001b[0;34m(\u001b[0m\u001b[0mresponse\u001b[0m\u001b[0;34m)\u001b[0m\u001b[0;34m\u001b[0m\u001b[0;34m\u001b[0m\u001b[0m\n\u001b[1;32m     68\u001b[0m \u001b[0;34m\u001b[0m\u001b[0m\n",
            "\u001b[0;32m/usr/local/lib/python3.12/dist-packages/google/generativeai/generative_models.py\u001b[0m in \u001b[0;36mgenerate_content\u001b[0;34m(self, contents, generation_config, safety_settings, stream, tools, tool_config, request_options)\u001b[0m\n\u001b[1;32m    329\u001b[0m                 \u001b[0;32mreturn\u001b[0m \u001b[0mgeneration_types\u001b[0m\u001b[0;34m.\u001b[0m\u001b[0mGenerateContentResponse\u001b[0m\u001b[0;34m.\u001b[0m\u001b[0mfrom_iterator\u001b[0m\u001b[0;34m(\u001b[0m\u001b[0miterator\u001b[0m\u001b[0;34m)\u001b[0m\u001b[0;34m\u001b[0m\u001b[0;34m\u001b[0m\u001b[0m\n\u001b[1;32m    330\u001b[0m             \u001b[0;32melse\u001b[0m\u001b[0;34m:\u001b[0m\u001b[0;34m\u001b[0m\u001b[0;34m\u001b[0m\u001b[0m\n\u001b[0;32m--> 331\u001b[0;31m                 response = self._client.generate_content(\n\u001b[0m\u001b[1;32m    332\u001b[0m                     \u001b[0mrequest\u001b[0m\u001b[0;34m,\u001b[0m\u001b[0;34m\u001b[0m\u001b[0;34m\u001b[0m\u001b[0m\n\u001b[1;32m    333\u001b[0m                     \u001b[0;34m**\u001b[0m\u001b[0mrequest_options\u001b[0m\u001b[0;34m,\u001b[0m\u001b[0;34m\u001b[0m\u001b[0;34m\u001b[0m\u001b[0m\n",
            "\u001b[0;32m/usr/local/lib/python3.12/dist-packages/google/ai/generativelanguage_v1beta/services/generative_service/client.py\u001b[0m in \u001b[0;36mgenerate_content\u001b[0;34m(self, request, model, contents, retry, timeout, metadata)\u001b[0m\n\u001b[1;32m    833\u001b[0m \u001b[0;34m\u001b[0m\u001b[0m\n\u001b[1;32m    834\u001b[0m         \u001b[0;31m# Send the request.\u001b[0m\u001b[0;34m\u001b[0m\u001b[0;34m\u001b[0m\u001b[0m\n\u001b[0;32m--> 835\u001b[0;31m         response = rpc(\n\u001b[0m\u001b[1;32m    836\u001b[0m             \u001b[0mrequest\u001b[0m\u001b[0;34m,\u001b[0m\u001b[0;34m\u001b[0m\u001b[0;34m\u001b[0m\u001b[0m\n\u001b[1;32m    837\u001b[0m             \u001b[0mretry\u001b[0m\u001b[0;34m=\u001b[0m\u001b[0mretry\u001b[0m\u001b[0;34m,\u001b[0m\u001b[0;34m\u001b[0m\u001b[0;34m\u001b[0m\u001b[0m\n",
            "\u001b[0;32m/usr/local/lib/python3.12/dist-packages/google/api_core/gapic_v1/method.py\u001b[0m in \u001b[0;36m__call__\u001b[0;34m(self, timeout, retry, compression, *args, **kwargs)\u001b[0m\n\u001b[1;32m    129\u001b[0m             \u001b[0mkwargs\u001b[0m\u001b[0;34m[\u001b[0m\u001b[0;34m\"compression\"\u001b[0m\u001b[0;34m]\u001b[0m \u001b[0;34m=\u001b[0m \u001b[0mcompression\u001b[0m\u001b[0;34m\u001b[0m\u001b[0;34m\u001b[0m\u001b[0m\n\u001b[1;32m    130\u001b[0m \u001b[0;34m\u001b[0m\u001b[0m\n\u001b[0;32m--> 131\u001b[0;31m         \u001b[0;32mreturn\u001b[0m \u001b[0mwrapped_func\u001b[0m\u001b[0;34m(\u001b[0m\u001b[0;34m*\u001b[0m\u001b[0margs\u001b[0m\u001b[0;34m,\u001b[0m \u001b[0;34m**\u001b[0m\u001b[0mkwargs\u001b[0m\u001b[0;34m)\u001b[0m\u001b[0;34m\u001b[0m\u001b[0;34m\u001b[0m\u001b[0m\n\u001b[0m\u001b[1;32m    132\u001b[0m \u001b[0;34m\u001b[0m\u001b[0m\n\u001b[1;32m    133\u001b[0m \u001b[0;34m\u001b[0m\u001b[0m\n",
            "\u001b[0;32m/usr/local/lib/python3.12/dist-packages/google/api_core/retry/retry_unary.py\u001b[0m in \u001b[0;36mretry_wrapped_func\u001b[0;34m(*args, **kwargs)\u001b[0m\n\u001b[1;32m    292\u001b[0m                 \u001b[0mself\u001b[0m\u001b[0;34m.\u001b[0m\u001b[0m_initial\u001b[0m\u001b[0;34m,\u001b[0m \u001b[0mself\u001b[0m\u001b[0;34m.\u001b[0m\u001b[0m_maximum\u001b[0m\u001b[0;34m,\u001b[0m \u001b[0mmultiplier\u001b[0m\u001b[0;34m=\u001b[0m\u001b[0mself\u001b[0m\u001b[0;34m.\u001b[0m\u001b[0m_multiplier\u001b[0m\u001b[0;34m\u001b[0m\u001b[0;34m\u001b[0m\u001b[0m\n\u001b[1;32m    293\u001b[0m             )\n\u001b[0;32m--> 294\u001b[0;31m             return retry_target(\n\u001b[0m\u001b[1;32m    295\u001b[0m                 \u001b[0mtarget\u001b[0m\u001b[0;34m,\u001b[0m\u001b[0;34m\u001b[0m\u001b[0;34m\u001b[0m\u001b[0m\n\u001b[1;32m    296\u001b[0m                 \u001b[0mself\u001b[0m\u001b[0;34m.\u001b[0m\u001b[0m_predicate\u001b[0m\u001b[0;34m,\u001b[0m\u001b[0;34m\u001b[0m\u001b[0;34m\u001b[0m\u001b[0m\n",
            "\u001b[0;32m/usr/local/lib/python3.12/dist-packages/google/api_core/retry/retry_unary.py\u001b[0m in \u001b[0;36mretry_target\u001b[0;34m(target, predicate, sleep_generator, timeout, on_error, exception_factory, **kwargs)\u001b[0m\n\u001b[1;32m    145\u001b[0m     \u001b[0;32mwhile\u001b[0m \u001b[0;32mTrue\u001b[0m\u001b[0;34m:\u001b[0m\u001b[0;34m\u001b[0m\u001b[0;34m\u001b[0m\u001b[0m\n\u001b[1;32m    146\u001b[0m         \u001b[0;32mtry\u001b[0m\u001b[0;34m:\u001b[0m\u001b[0;34m\u001b[0m\u001b[0;34m\u001b[0m\u001b[0m\n\u001b[0;32m--> 147\u001b[0;31m             \u001b[0mresult\u001b[0m \u001b[0;34m=\u001b[0m \u001b[0mtarget\u001b[0m\u001b[0;34m(\u001b[0m\u001b[0;34m)\u001b[0m\u001b[0;34m\u001b[0m\u001b[0;34m\u001b[0m\u001b[0m\n\u001b[0m\u001b[1;32m    148\u001b[0m             \u001b[0;32mif\u001b[0m \u001b[0minspect\u001b[0m\u001b[0;34m.\u001b[0m\u001b[0misawaitable\u001b[0m\u001b[0;34m(\u001b[0m\u001b[0mresult\u001b[0m\u001b[0;34m)\u001b[0m\u001b[0;34m:\u001b[0m\u001b[0;34m\u001b[0m\u001b[0;34m\u001b[0m\u001b[0m\n\u001b[1;32m    149\u001b[0m                 \u001b[0mwarnings\u001b[0m\u001b[0;34m.\u001b[0m\u001b[0mwarn\u001b[0m\u001b[0;34m(\u001b[0m\u001b[0m_ASYNC_RETRY_WARNING\u001b[0m\u001b[0;34m)\u001b[0m\u001b[0;34m\u001b[0m\u001b[0;34m\u001b[0m\u001b[0m\n",
            "\u001b[0;32m/usr/local/lib/python3.12/dist-packages/google/api_core/timeout.py\u001b[0m in \u001b[0;36mfunc_with_timeout\u001b[0;34m(*args, **kwargs)\u001b[0m\n\u001b[1;32m    128\u001b[0m                 \u001b[0mkwargs\u001b[0m\u001b[0;34m[\u001b[0m\u001b[0;34m\"timeout\"\u001b[0m\u001b[0;34m]\u001b[0m \u001b[0;34m=\u001b[0m \u001b[0mremaining_timeout\u001b[0m\u001b[0;34m\u001b[0m\u001b[0;34m\u001b[0m\u001b[0m\n\u001b[1;32m    129\u001b[0m \u001b[0;34m\u001b[0m\u001b[0m\n\u001b[0;32m--> 130\u001b[0;31m             \u001b[0;32mreturn\u001b[0m \u001b[0mfunc\u001b[0m\u001b[0;34m(\u001b[0m\u001b[0;34m*\u001b[0m\u001b[0margs\u001b[0m\u001b[0;34m,\u001b[0m \u001b[0;34m**\u001b[0m\u001b[0mkwargs\u001b[0m\u001b[0;34m)\u001b[0m\u001b[0;34m\u001b[0m\u001b[0;34m\u001b[0m\u001b[0m\n\u001b[0m\u001b[1;32m    131\u001b[0m \u001b[0;34m\u001b[0m\u001b[0m\n\u001b[1;32m    132\u001b[0m         \u001b[0;32mreturn\u001b[0m \u001b[0mfunc_with_timeout\u001b[0m\u001b[0;34m\u001b[0m\u001b[0;34m\u001b[0m\u001b[0m\n",
            "\u001b[0;32m/usr/local/lib/python3.12/dist-packages/google/api_core/grpc_helpers.py\u001b[0m in \u001b[0;36merror_remapped_callable\u001b[0;34m(*args, **kwargs)\u001b[0m\n\u001b[1;32m     74\u001b[0m     \u001b[0;32mdef\u001b[0m \u001b[0merror_remapped_callable\u001b[0m\u001b[0;34m(\u001b[0m\u001b[0;34m*\u001b[0m\u001b[0margs\u001b[0m\u001b[0;34m,\u001b[0m \u001b[0;34m**\u001b[0m\u001b[0mkwargs\u001b[0m\u001b[0;34m)\u001b[0m\u001b[0;34m:\u001b[0m\u001b[0;34m\u001b[0m\u001b[0;34m\u001b[0m\u001b[0m\n\u001b[1;32m     75\u001b[0m         \u001b[0;32mtry\u001b[0m\u001b[0;34m:\u001b[0m\u001b[0;34m\u001b[0m\u001b[0;34m\u001b[0m\u001b[0m\n\u001b[0;32m---> 76\u001b[0;31m             \u001b[0;32mreturn\u001b[0m \u001b[0mcallable_\u001b[0m\u001b[0;34m(\u001b[0m\u001b[0;34m*\u001b[0m\u001b[0margs\u001b[0m\u001b[0;34m,\u001b[0m \u001b[0;34m**\u001b[0m\u001b[0mkwargs\u001b[0m\u001b[0;34m)\u001b[0m\u001b[0;34m\u001b[0m\u001b[0;34m\u001b[0m\u001b[0m\n\u001b[0m\u001b[1;32m     77\u001b[0m         \u001b[0;32mexcept\u001b[0m \u001b[0mgrpc\u001b[0m\u001b[0;34m.\u001b[0m\u001b[0mRpcError\u001b[0m \u001b[0;32mas\u001b[0m \u001b[0mexc\u001b[0m\u001b[0;34m:\u001b[0m\u001b[0;34m\u001b[0m\u001b[0;34m\u001b[0m\u001b[0m\n\u001b[1;32m     78\u001b[0m             \u001b[0;32mraise\u001b[0m \u001b[0mexceptions\u001b[0m\u001b[0;34m.\u001b[0m\u001b[0mfrom_grpc_error\u001b[0m\u001b[0;34m(\u001b[0m\u001b[0mexc\u001b[0m\u001b[0;34m)\u001b[0m \u001b[0;32mfrom\u001b[0m \u001b[0mexc\u001b[0m\u001b[0;34m\u001b[0m\u001b[0;34m\u001b[0m\u001b[0m\n",
            "\u001b[0;32m/usr/local/lib/python3.12/dist-packages/google/ai/generativelanguage_v1beta/services/generative_service/transports/rest.py\u001b[0m in \u001b[0;36m__call__\u001b[0;34m(self, request, retry, timeout, metadata)\u001b[0m\n\u001b[1;32m   1146\u001b[0m \u001b[0;34m\u001b[0m\u001b[0m\n\u001b[1;32m   1147\u001b[0m             \u001b[0;31m# Send the request\u001b[0m\u001b[0;34m\u001b[0m\u001b[0;34m\u001b[0m\u001b[0m\n\u001b[0;32m-> 1148\u001b[0;31m             response = GenerativeServiceRestTransport._GenerateContent._get_response(\n\u001b[0m\u001b[1;32m   1149\u001b[0m                 \u001b[0mself\u001b[0m\u001b[0;34m.\u001b[0m\u001b[0m_host\u001b[0m\u001b[0;34m,\u001b[0m\u001b[0;34m\u001b[0m\u001b[0;34m\u001b[0m\u001b[0m\n\u001b[1;32m   1150\u001b[0m                 \u001b[0mmetadata\u001b[0m\u001b[0;34m,\u001b[0m\u001b[0;34m\u001b[0m\u001b[0;34m\u001b[0m\u001b[0m\n",
            "\u001b[0;32m/usr/local/lib/python3.12/dist-packages/google/ai/generativelanguage_v1beta/services/generative_service/transports/rest.py\u001b[0m in \u001b[0;36m_get_response\u001b[0;34m(host, metadata, query_params, session, timeout, transcoded_request, body)\u001b[0m\n\u001b[1;32m   1046\u001b[0m             \u001b[0mheaders\u001b[0m \u001b[0;34m=\u001b[0m \u001b[0mdict\u001b[0m\u001b[0;34m(\u001b[0m\u001b[0mmetadata\u001b[0m\u001b[0;34m)\u001b[0m\u001b[0;34m\u001b[0m\u001b[0;34m\u001b[0m\u001b[0m\n\u001b[1;32m   1047\u001b[0m             \u001b[0mheaders\u001b[0m\u001b[0;34m[\u001b[0m\u001b[0;34m\"Content-Type\"\u001b[0m\u001b[0;34m]\u001b[0m \u001b[0;34m=\u001b[0m \u001b[0;34m\"application/json\"\u001b[0m\u001b[0;34m\u001b[0m\u001b[0;34m\u001b[0m\u001b[0m\n\u001b[0;32m-> 1048\u001b[0;31m             response = getattr(session, method)(\n\u001b[0m\u001b[1;32m   1049\u001b[0m                 \u001b[0;34m\"{host}{uri}\"\u001b[0m\u001b[0;34m.\u001b[0m\u001b[0mformat\u001b[0m\u001b[0;34m(\u001b[0m\u001b[0mhost\u001b[0m\u001b[0;34m=\u001b[0m\u001b[0mhost\u001b[0m\u001b[0;34m,\u001b[0m \u001b[0muri\u001b[0m\u001b[0;34m=\u001b[0m\u001b[0muri\u001b[0m\u001b[0;34m)\u001b[0m\u001b[0;34m,\u001b[0m\u001b[0;34m\u001b[0m\u001b[0;34m\u001b[0m\u001b[0m\n\u001b[1;32m   1050\u001b[0m                 \u001b[0mtimeout\u001b[0m\u001b[0;34m=\u001b[0m\u001b[0mtimeout\u001b[0m\u001b[0;34m,\u001b[0m\u001b[0;34m\u001b[0m\u001b[0;34m\u001b[0m\u001b[0m\n",
            "\u001b[0;32m/usr/local/lib/python3.12/dist-packages/requests/sessions.py\u001b[0m in \u001b[0;36mpost\u001b[0;34m(self, url, data, json, **kwargs)\u001b[0m\n\u001b[1;32m    635\u001b[0m         \"\"\"\n\u001b[1;32m    636\u001b[0m \u001b[0;34m\u001b[0m\u001b[0m\n\u001b[0;32m--> 637\u001b[0;31m         \u001b[0;32mreturn\u001b[0m \u001b[0mself\u001b[0m\u001b[0;34m.\u001b[0m\u001b[0mrequest\u001b[0m\u001b[0;34m(\u001b[0m\u001b[0;34m\"POST\"\u001b[0m\u001b[0;34m,\u001b[0m \u001b[0murl\u001b[0m\u001b[0;34m,\u001b[0m \u001b[0mdata\u001b[0m\u001b[0;34m=\u001b[0m\u001b[0mdata\u001b[0m\u001b[0;34m,\u001b[0m \u001b[0mjson\u001b[0m\u001b[0;34m=\u001b[0m\u001b[0mjson\u001b[0m\u001b[0;34m,\u001b[0m \u001b[0;34m**\u001b[0m\u001b[0mkwargs\u001b[0m\u001b[0;34m)\u001b[0m\u001b[0;34m\u001b[0m\u001b[0;34m\u001b[0m\u001b[0m\n\u001b[0m\u001b[1;32m    638\u001b[0m \u001b[0;34m\u001b[0m\u001b[0m\n\u001b[1;32m    639\u001b[0m     \u001b[0;32mdef\u001b[0m \u001b[0mput\u001b[0m\u001b[0;34m(\u001b[0m\u001b[0mself\u001b[0m\u001b[0;34m,\u001b[0m \u001b[0murl\u001b[0m\u001b[0;34m,\u001b[0m \u001b[0mdata\u001b[0m\u001b[0;34m=\u001b[0m\u001b[0;32mNone\u001b[0m\u001b[0;34m,\u001b[0m \u001b[0;34m**\u001b[0m\u001b[0mkwargs\u001b[0m\u001b[0;34m)\u001b[0m\u001b[0;34m:\u001b[0m\u001b[0;34m\u001b[0m\u001b[0;34m\u001b[0m\u001b[0m\n",
            "\u001b[0;32m/usr/local/lib/python3.12/dist-packages/google/auth/transport/requests.py\u001b[0m in \u001b[0;36mrequest\u001b[0;34m(self, method, url, data, headers, max_allowed_time, timeout, **kwargs)\u001b[0m\n\u001b[1;32m    535\u001b[0m \u001b[0;34m\u001b[0m\u001b[0m\n\u001b[1;32m    536\u001b[0m         \u001b[0;32mwith\u001b[0m \u001b[0mTimeoutGuard\u001b[0m\u001b[0;34m(\u001b[0m\u001b[0mremaining_time\u001b[0m\u001b[0;34m)\u001b[0m \u001b[0;32mas\u001b[0m \u001b[0mguard\u001b[0m\u001b[0;34m:\u001b[0m\u001b[0;34m\u001b[0m\u001b[0;34m\u001b[0m\u001b[0m\n\u001b[0;32m--> 537\u001b[0;31m             response = super(AuthorizedSession, self).request(\n\u001b[0m\u001b[1;32m    538\u001b[0m                 \u001b[0mmethod\u001b[0m\u001b[0;34m,\u001b[0m\u001b[0;34m\u001b[0m\u001b[0;34m\u001b[0m\u001b[0m\n\u001b[1;32m    539\u001b[0m                 \u001b[0murl\u001b[0m\u001b[0;34m,\u001b[0m\u001b[0;34m\u001b[0m\u001b[0;34m\u001b[0m\u001b[0m\n",
            "\u001b[0;32m/usr/local/lib/python3.12/dist-packages/requests/sessions.py\u001b[0m in \u001b[0;36mrequest\u001b[0;34m(self, method, url, params, data, headers, cookies, files, auth, timeout, allow_redirects, proxies, hooks, stream, verify, cert, json)\u001b[0m\n\u001b[1;32m    587\u001b[0m         }\n\u001b[1;32m    588\u001b[0m         \u001b[0msend_kwargs\u001b[0m\u001b[0;34m.\u001b[0m\u001b[0mupdate\u001b[0m\u001b[0;34m(\u001b[0m\u001b[0msettings\u001b[0m\u001b[0;34m)\u001b[0m\u001b[0;34m\u001b[0m\u001b[0;34m\u001b[0m\u001b[0m\n\u001b[0;32m--> 589\u001b[0;31m         \u001b[0mresp\u001b[0m \u001b[0;34m=\u001b[0m \u001b[0mself\u001b[0m\u001b[0;34m.\u001b[0m\u001b[0msend\u001b[0m\u001b[0;34m(\u001b[0m\u001b[0mprep\u001b[0m\u001b[0;34m,\u001b[0m \u001b[0;34m**\u001b[0m\u001b[0msend_kwargs\u001b[0m\u001b[0;34m)\u001b[0m\u001b[0;34m\u001b[0m\u001b[0;34m\u001b[0m\u001b[0m\n\u001b[0m\u001b[1;32m    590\u001b[0m \u001b[0;34m\u001b[0m\u001b[0m\n\u001b[1;32m    591\u001b[0m         \u001b[0;32mreturn\u001b[0m \u001b[0mresp\u001b[0m\u001b[0;34m\u001b[0m\u001b[0;34m\u001b[0m\u001b[0m\n",
            "\u001b[0;32m/usr/local/lib/python3.12/dist-packages/requests/sessions.py\u001b[0m in \u001b[0;36msend\u001b[0;34m(self, request, **kwargs)\u001b[0m\n\u001b[1;32m    701\u001b[0m \u001b[0;34m\u001b[0m\u001b[0m\n\u001b[1;32m    702\u001b[0m         \u001b[0;31m# Send the request\u001b[0m\u001b[0;34m\u001b[0m\u001b[0;34m\u001b[0m\u001b[0m\n\u001b[0;32m--> 703\u001b[0;31m         \u001b[0mr\u001b[0m \u001b[0;34m=\u001b[0m \u001b[0madapter\u001b[0m\u001b[0;34m.\u001b[0m\u001b[0msend\u001b[0m\u001b[0;34m(\u001b[0m\u001b[0mrequest\u001b[0m\u001b[0;34m,\u001b[0m \u001b[0;34m**\u001b[0m\u001b[0mkwargs\u001b[0m\u001b[0;34m)\u001b[0m\u001b[0;34m\u001b[0m\u001b[0;34m\u001b[0m\u001b[0m\n\u001b[0m\u001b[1;32m    704\u001b[0m \u001b[0;34m\u001b[0m\u001b[0m\n\u001b[1;32m    705\u001b[0m         \u001b[0;31m# Total elapsed time of the request (approximately)\u001b[0m\u001b[0;34m\u001b[0m\u001b[0;34m\u001b[0m\u001b[0m\n",
            "\u001b[0;32m/usr/local/lib/python3.12/dist-packages/requests/adapters.py\u001b[0m in \u001b[0;36msend\u001b[0;34m(self, request, stream, timeout, verify, cert, proxies)\u001b[0m\n\u001b[1;32m    665\u001b[0m \u001b[0;34m\u001b[0m\u001b[0m\n\u001b[1;32m    666\u001b[0m         \u001b[0;32mtry\u001b[0m\u001b[0;34m:\u001b[0m\u001b[0;34m\u001b[0m\u001b[0;34m\u001b[0m\u001b[0m\n\u001b[0;32m--> 667\u001b[0;31m             resp = conn.urlopen(\n\u001b[0m\u001b[1;32m    668\u001b[0m                 \u001b[0mmethod\u001b[0m\u001b[0;34m=\u001b[0m\u001b[0mrequest\u001b[0m\u001b[0;34m.\u001b[0m\u001b[0mmethod\u001b[0m\u001b[0;34m,\u001b[0m\u001b[0;34m\u001b[0m\u001b[0;34m\u001b[0m\u001b[0m\n\u001b[1;32m    669\u001b[0m                 \u001b[0murl\u001b[0m\u001b[0;34m=\u001b[0m\u001b[0murl\u001b[0m\u001b[0;34m,\u001b[0m\u001b[0;34m\u001b[0m\u001b[0;34m\u001b[0m\u001b[0m\n",
            "\u001b[0;32m/usr/local/lib/python3.12/dist-packages/urllib3/connectionpool.py\u001b[0m in \u001b[0;36murlopen\u001b[0;34m(self, method, url, body, headers, retries, redirect, assert_same_host, timeout, pool_timeout, release_conn, chunked, body_pos, preload_content, decode_content, **response_kw)\u001b[0m\n\u001b[1;32m    785\u001b[0m \u001b[0;34m\u001b[0m\u001b[0m\n\u001b[1;32m    786\u001b[0m             \u001b[0;31m# Make the request on the HTTPConnection object\u001b[0m\u001b[0;34m\u001b[0m\u001b[0;34m\u001b[0m\u001b[0m\n\u001b[0;32m--> 787\u001b[0;31m             response = self._make_request(\n\u001b[0m\u001b[1;32m    788\u001b[0m                 \u001b[0mconn\u001b[0m\u001b[0;34m,\u001b[0m\u001b[0;34m\u001b[0m\u001b[0;34m\u001b[0m\u001b[0m\n\u001b[1;32m    789\u001b[0m                 \u001b[0mmethod\u001b[0m\u001b[0;34m,\u001b[0m\u001b[0;34m\u001b[0m\u001b[0;34m\u001b[0m\u001b[0m\n",
            "\u001b[0;32m/usr/local/lib/python3.12/dist-packages/urllib3/connectionpool.py\u001b[0m in \u001b[0;36m_make_request\u001b[0;34m(self, conn, method, url, body, headers, retries, timeout, chunked, response_conn, preload_content, decode_content, enforce_content_length)\u001b[0m\n\u001b[1;32m    532\u001b[0m         \u001b[0;31m# Receive the response from the server\u001b[0m\u001b[0;34m\u001b[0m\u001b[0;34m\u001b[0m\u001b[0m\n\u001b[1;32m    533\u001b[0m         \u001b[0;32mtry\u001b[0m\u001b[0;34m:\u001b[0m\u001b[0;34m\u001b[0m\u001b[0;34m\u001b[0m\u001b[0m\n\u001b[0;32m--> 534\u001b[0;31m             \u001b[0mresponse\u001b[0m \u001b[0;34m=\u001b[0m \u001b[0mconn\u001b[0m\u001b[0;34m.\u001b[0m\u001b[0mgetresponse\u001b[0m\u001b[0;34m(\u001b[0m\u001b[0;34m)\u001b[0m\u001b[0;34m\u001b[0m\u001b[0;34m\u001b[0m\u001b[0m\n\u001b[0m\u001b[1;32m    535\u001b[0m         \u001b[0;32mexcept\u001b[0m \u001b[0;34m(\u001b[0m\u001b[0mBaseSSLError\u001b[0m\u001b[0;34m,\u001b[0m \u001b[0mOSError\u001b[0m\u001b[0;34m)\u001b[0m \u001b[0;32mas\u001b[0m \u001b[0me\u001b[0m\u001b[0;34m:\u001b[0m\u001b[0;34m\u001b[0m\u001b[0;34m\u001b[0m\u001b[0m\n\u001b[1;32m    536\u001b[0m             \u001b[0mself\u001b[0m\u001b[0;34m.\u001b[0m\u001b[0m_raise_timeout\u001b[0m\u001b[0;34m(\u001b[0m\u001b[0merr\u001b[0m\u001b[0;34m=\u001b[0m\u001b[0me\u001b[0m\u001b[0;34m,\u001b[0m \u001b[0murl\u001b[0m\u001b[0;34m=\u001b[0m\u001b[0murl\u001b[0m\u001b[0;34m,\u001b[0m \u001b[0mtimeout_value\u001b[0m\u001b[0;34m=\u001b[0m\u001b[0mread_timeout\u001b[0m\u001b[0;34m)\u001b[0m\u001b[0;34m\u001b[0m\u001b[0;34m\u001b[0m\u001b[0m\n",
            "\u001b[0;32m/usr/local/lib/python3.12/dist-packages/urllib3/connection.py\u001b[0m in \u001b[0;36mgetresponse\u001b[0;34m(self)\u001b[0m\n\u001b[1;32m    563\u001b[0m \u001b[0;34m\u001b[0m\u001b[0m\n\u001b[1;32m    564\u001b[0m         \u001b[0;31m# Get the response from http.client.HTTPConnection\u001b[0m\u001b[0;34m\u001b[0m\u001b[0;34m\u001b[0m\u001b[0m\n\u001b[0;32m--> 565\u001b[0;31m         \u001b[0mhttplib_response\u001b[0m \u001b[0;34m=\u001b[0m \u001b[0msuper\u001b[0m\u001b[0;34m(\u001b[0m\u001b[0;34m)\u001b[0m\u001b[0;34m.\u001b[0m\u001b[0mgetresponse\u001b[0m\u001b[0;34m(\u001b[0m\u001b[0;34m)\u001b[0m\u001b[0;34m\u001b[0m\u001b[0;34m\u001b[0m\u001b[0m\n\u001b[0m\u001b[1;32m    566\u001b[0m \u001b[0;34m\u001b[0m\u001b[0m\n\u001b[1;32m    567\u001b[0m         \u001b[0;32mtry\u001b[0m\u001b[0;34m:\u001b[0m\u001b[0;34m\u001b[0m\u001b[0;34m\u001b[0m\u001b[0m\n",
            "\u001b[0;32m/usr/lib/python3.12/http/client.py\u001b[0m in \u001b[0;36mgetresponse\u001b[0;34m(self)\u001b[0m\n\u001b[1;32m   1428\u001b[0m         \u001b[0;32mtry\u001b[0m\u001b[0;34m:\u001b[0m\u001b[0;34m\u001b[0m\u001b[0;34m\u001b[0m\u001b[0m\n\u001b[1;32m   1429\u001b[0m             \u001b[0;32mtry\u001b[0m\u001b[0;34m:\u001b[0m\u001b[0;34m\u001b[0m\u001b[0;34m\u001b[0m\u001b[0m\n\u001b[0;32m-> 1430\u001b[0;31m                 \u001b[0mresponse\u001b[0m\u001b[0;34m.\u001b[0m\u001b[0mbegin\u001b[0m\u001b[0;34m(\u001b[0m\u001b[0;34m)\u001b[0m\u001b[0;34m\u001b[0m\u001b[0;34m\u001b[0m\u001b[0m\n\u001b[0m\u001b[1;32m   1431\u001b[0m             \u001b[0;32mexcept\u001b[0m \u001b[0mConnectionError\u001b[0m\u001b[0;34m:\u001b[0m\u001b[0;34m\u001b[0m\u001b[0;34m\u001b[0m\u001b[0m\n\u001b[1;32m   1432\u001b[0m                 \u001b[0mself\u001b[0m\u001b[0;34m.\u001b[0m\u001b[0mclose\u001b[0m\u001b[0;34m(\u001b[0m\u001b[0;34m)\u001b[0m\u001b[0;34m\u001b[0m\u001b[0;34m\u001b[0m\u001b[0m\n",
            "\u001b[0;32m/usr/lib/python3.12/http/client.py\u001b[0m in \u001b[0;36mbegin\u001b[0;34m(self)\u001b[0m\n\u001b[1;32m    329\u001b[0m         \u001b[0;31m# read until we get a non-100 response\u001b[0m\u001b[0;34m\u001b[0m\u001b[0;34m\u001b[0m\u001b[0m\n\u001b[1;32m    330\u001b[0m         \u001b[0;32mwhile\u001b[0m \u001b[0;32mTrue\u001b[0m\u001b[0;34m:\u001b[0m\u001b[0;34m\u001b[0m\u001b[0;34m\u001b[0m\u001b[0m\n\u001b[0;32m--> 331\u001b[0;31m             \u001b[0mversion\u001b[0m\u001b[0;34m,\u001b[0m \u001b[0mstatus\u001b[0m\u001b[0;34m,\u001b[0m \u001b[0mreason\u001b[0m \u001b[0;34m=\u001b[0m \u001b[0mself\u001b[0m\u001b[0;34m.\u001b[0m\u001b[0m_read_status\u001b[0m\u001b[0;34m(\u001b[0m\u001b[0;34m)\u001b[0m\u001b[0;34m\u001b[0m\u001b[0;34m\u001b[0m\u001b[0m\n\u001b[0m\u001b[1;32m    332\u001b[0m             \u001b[0;32mif\u001b[0m \u001b[0mstatus\u001b[0m \u001b[0;34m!=\u001b[0m \u001b[0mCONTINUE\u001b[0m\u001b[0;34m:\u001b[0m\u001b[0;34m\u001b[0m\u001b[0;34m\u001b[0m\u001b[0m\n\u001b[1;32m    333\u001b[0m                 \u001b[0;32mbreak\u001b[0m\u001b[0;34m\u001b[0m\u001b[0;34m\u001b[0m\u001b[0m\n",
            "\u001b[0;32m/usr/lib/python3.12/http/client.py\u001b[0m in \u001b[0;36m_read_status\u001b[0;34m(self)\u001b[0m\n\u001b[1;32m    290\u001b[0m \u001b[0;34m\u001b[0m\u001b[0m\n\u001b[1;32m    291\u001b[0m     \u001b[0;32mdef\u001b[0m \u001b[0m_read_status\u001b[0m\u001b[0;34m(\u001b[0m\u001b[0mself\u001b[0m\u001b[0;34m)\u001b[0m\u001b[0;34m:\u001b[0m\u001b[0;34m\u001b[0m\u001b[0;34m\u001b[0m\u001b[0m\n\u001b[0;32m--> 292\u001b[0;31m         \u001b[0mline\u001b[0m \u001b[0;34m=\u001b[0m \u001b[0mstr\u001b[0m\u001b[0;34m(\u001b[0m\u001b[0mself\u001b[0m\u001b[0;34m.\u001b[0m\u001b[0mfp\u001b[0m\u001b[0;34m.\u001b[0m\u001b[0mreadline\u001b[0m\u001b[0;34m(\u001b[0m\u001b[0m_MAXLINE\u001b[0m \u001b[0;34m+\u001b[0m \u001b[0;36m1\u001b[0m\u001b[0;34m)\u001b[0m\u001b[0;34m,\u001b[0m \u001b[0;34m\"iso-8859-1\"\u001b[0m\u001b[0;34m)\u001b[0m\u001b[0;34m\u001b[0m\u001b[0;34m\u001b[0m\u001b[0m\n\u001b[0m\u001b[1;32m    293\u001b[0m         \u001b[0;32mif\u001b[0m \u001b[0mlen\u001b[0m\u001b[0;34m(\u001b[0m\u001b[0mline\u001b[0m\u001b[0;34m)\u001b[0m \u001b[0;34m>\u001b[0m \u001b[0m_MAXLINE\u001b[0m\u001b[0;34m:\u001b[0m\u001b[0;34m\u001b[0m\u001b[0;34m\u001b[0m\u001b[0m\n\u001b[1;32m    294\u001b[0m             \u001b[0;32mraise\u001b[0m \u001b[0mLineTooLong\u001b[0m\u001b[0;34m(\u001b[0m\u001b[0;34m\"status line\"\u001b[0m\u001b[0;34m)\u001b[0m\u001b[0;34m\u001b[0m\u001b[0;34m\u001b[0m\u001b[0m\n",
            "\u001b[0;32m/usr/lib/python3.12/socket.py\u001b[0m in \u001b[0;36mreadinto\u001b[0;34m(self, b)\u001b[0m\n\u001b[1;32m    718\u001b[0m         \u001b[0;32mwhile\u001b[0m \u001b[0;32mTrue\u001b[0m\u001b[0;34m:\u001b[0m\u001b[0;34m\u001b[0m\u001b[0;34m\u001b[0m\u001b[0m\n\u001b[1;32m    719\u001b[0m             \u001b[0;32mtry\u001b[0m\u001b[0;34m:\u001b[0m\u001b[0;34m\u001b[0m\u001b[0;34m\u001b[0m\u001b[0m\n\u001b[0;32m--> 720\u001b[0;31m                 \u001b[0;32mreturn\u001b[0m \u001b[0mself\u001b[0m\u001b[0;34m.\u001b[0m\u001b[0m_sock\u001b[0m\u001b[0;34m.\u001b[0m\u001b[0mrecv_into\u001b[0m\u001b[0;34m(\u001b[0m\u001b[0mb\u001b[0m\u001b[0;34m)\u001b[0m\u001b[0;34m\u001b[0m\u001b[0;34m\u001b[0m\u001b[0m\n\u001b[0m\u001b[1;32m    721\u001b[0m             \u001b[0;32mexcept\u001b[0m \u001b[0mtimeout\u001b[0m\u001b[0;34m:\u001b[0m\u001b[0;34m\u001b[0m\u001b[0;34m\u001b[0m\u001b[0m\n\u001b[1;32m    722\u001b[0m                 \u001b[0mself\u001b[0m\u001b[0;34m.\u001b[0m\u001b[0m_timeout_occurred\u001b[0m \u001b[0;34m=\u001b[0m \u001b[0;32mTrue\u001b[0m\u001b[0;34m\u001b[0m\u001b[0;34m\u001b[0m\u001b[0m\n",
            "\u001b[0;31mKeyboardInterrupt\u001b[0m: "
          ]
        }
      ]
    },
    {
      "cell_type": "markdown",
      "source": [],
      "metadata": {
        "id": "uTax25KBuPRy"
      }
    },
    {
      "cell_type": "markdown",
      "metadata": {
        "id": "cb2f87b6"
      },
      "source": [
        "# Task\n",
        "Analyze and improve the speed of the provided Python function, which interacts with the Gemini API and Supabase, based on the user's reported timeout and variable access errors."
      ]
    },
    {
      "cell_type": "markdown",
      "metadata": {
        "id": "d16e3db2"
      },
      "source": [
        "## Analyze current performance\n",
        "\n",
        "### Subtask:\n",
        "Measure the execution time of the current function to identify the slowest parts.\n"
      ]
    },
    {
      "cell_type": "markdown",
      "metadata": {
        "id": "50f37f94"
      },
      "source": [
        "**Reasoning**:\n",
        "Import the time module and add timing measurements around the function call and within the function around the API call and database upsert to measure execution time as requested by the instructions.\n",
        "\n"
      ]
    },
    {
      "cell_type": "code",
      "metadata": {
        "colab": {
          "base_uri": "https://localhost:8080/",
          "height": 400
        },
        "id": "05cd4a37",
        "outputId": "610d8911-bbfa-4edf-9f80-2d86ef2782bc"
      },
      "source": [
        "import time\n",
        "\n",
        "def generate_and_populate_clues():\n",
        "    \"\"\"\n",
        "    Generates AI clues for each character and populates the 'clues' table using upsert.\n",
        "    \"\"\"\n",
        "    characters_response = supabase.table(\"characters\").select(\"id\", \"name\", \"anime_id\").execute()\n",
        "    characters = characters_response.data\n",
        "    print(\"Characters fetched.\")\n",
        "\n",
        "    anime_titles_response = supabase.table(\"anime\").select(\"id\", \"title\").execute()\n",
        "    anime_titles = {a['id']: a['title'] for a in anime_titles_response.data}\n",
        "    print(\"Anime titles fetched.\")\n",
        "\n",
        "    for character in characters:\n",
        "        character_id = character['id']\n",
        "        character_name = character['name']\n",
        "        anime_id = character['anime_id']\n",
        "        anime_title = anime_titles.get(anime_id, \"Unknown Anime\")\n",
        "\n",
        "        prompt = f\"\"\"Generate 15 unique and distinct clues for the anime character named {character_name} from the anime {anime_title}.\n",
        "\n",
        "        The clues should be in increasing order of difficulty from 1 (easiest) to 5 (hardest). Provide 3 different clues for each difficulty level.\n",
        "\n",
        "        Difficulty levels:\n",
        "        - **Level 1 (Beginner)**: Very direct, common knowledge.\n",
        "        - **Level 2 (Novice)**: Common, but requires a bit more thought.\n",
        "        - **Level 3 (Intermediate)**: Relates to a major plot point or personality trait.\n",
        "        - **Level 4 (Advanced)**: Specific, related to an obscure power or a less-known fact.\n",
        "        - **Level 5 (Expert)**: Extremely difficult, may relate to their voice actor, a minor character they interacted with, or a subtle design detail.\n",
        "\n",
        "        Format the output as a JSON object with a single key 'clues'. The value for 'clues' should be an array of objects. Each object in the array must have two keys: 'difficulty' (an integer from 1 to 5) and 'text' (the clue as a string).\n",
        "\n",
        "        Example Output:\n",
        "        {{\n",
        "            \"clues\": [\n",
        "                {{\n",
        "                    \"difficulty\": 1,\n",
        "                    \"text\": \"My hair is yellow and spiky and I am a ninja.\"\n",
        "                }},\n",
        "                {{\n",
        "                    \"difficulty\": 1,\n",
        "                    \"text\": \"I am the hero from the anime, Naruto.\"\n",
        "                }},\n",
        "                {{\n",
        "                    \"difficulty\": 1,\n",
        "                    \"text\": \"My catchphrase is 'Believe it!'\"\n",
        "                }},\n",
        "                {{\n",
        "                    \"difficulty\": 2,\n",
        "                    \"text\": \"I am part of Team 7 with Sakura Haruno and Sasuke Uchiha.\"\n",
        "                }},\n",
        "                {{\n",
        "                    \"difficulty\": 2,\n",
        "                    \"text\": \"I was taught my signature move, the Rasengan, by Jiraiya.\"\n",
        "                }},\n",
        "                {{\n",
        "                    \"difficulty\": 2,\n",
        "                    \"text\": \"I'm the main character in the series about a ninja village.\"\n",
        "                }}\n",
        "            ]\n",
        "        }}\n",
        "\n",
        "        Your response must ONLY be the JSON object. Do not include any other text or explanation outside of the JSON.\"\"\"\n",
        "\n",
        "        try:\n",
        "            start_api_call_time = time.time()\n",
        "            # Increase the timeout for the API call\n",
        "            response = model.generate_content(prompt, request_options={'timeout': 1200}) # Increased timeout to 1200 seconds\n",
        "            end_api_call_time = time.time()\n",
        "            api_call_duration = end_api_call_time - start_api_call_time\n",
        "            print(f\"API call for {character_name} took {api_call_duration:.2f} seconds.\")\n",
        "\n",
        "\n",
        "            clues_json_str = response.text.strip().replace(\"```json\\n\", \"\").replace(\"\\n```\", \"\")\n",
        "            clues_data = json.loads(clues_json_str)\n",
        "\n",
        "            clues_to_insert = []\n",
        "            for clue in clues_data['clues']:\n",
        "                clues_to_insert.append({\n",
        "                    \"character_id\": character_id,\n",
        "                    \"clue_text\": clue[\"text\"],\n",
        "                    \"difficulty_level\": clue[\"difficulty\"]\n",
        "                })\n",
        "\n",
        "            start_db_upsert_time = time.time()\n",
        "            supabase.table(\"clues\").upsert(clues_to_insert, on_conflict=\"character_id, difficulty_level\").execute()\n",
        "            end_db_upsert_time = time.time()\n",
        "            db_upsert_duration = end_db_upsert_time - start_db_upsert_time\n",
        "            print(f\"Database upsert for {character_name} took {db_upsert_duration:.2f} seconds.\")\n",
        "\n",
        "        except Exception as e:\n",
        "            print(f\"Error processing {character_name}: {e}\")\n",
        "\n",
        "        time.sleep(1)\n",
        "\n",
        "start_time = time.time()\n",
        "generate_and_populate_clues()\n",
        "end_time = time.time()\n",
        "total_duration = end_time - start_time\n",
        "\n",
        "print(f\"Total execution time: {total_duration:.2f} seconds.\")"
      ],
      "execution_count": 18,
      "outputs": [
        {
          "output_type": "stream",
          "name": "stdout",
          "text": [
            "Characters fetched.\n",
            "Anime titles fetched.\n"
          ]
        },
        {
          "output_type": "error",
          "ename": "KeyboardInterrupt",
          "evalue": "",
          "traceback": [
            "\u001b[0;31m---------------------------------------------------------------------------\u001b[0m",
            "\u001b[0;31mKeyboardInterrupt\u001b[0m                         Traceback (most recent call last)",
            "\u001b[0;32m/tmp/ipython-input-4054336172.py\u001b[0m in \u001b[0;36m<cell line: 0>\u001b[0;34m()\u001b[0m\n\u001b[1;32m     96\u001b[0m \u001b[0;34m\u001b[0m\u001b[0m\n\u001b[1;32m     97\u001b[0m \u001b[0mstart_time\u001b[0m \u001b[0;34m=\u001b[0m \u001b[0mtime\u001b[0m\u001b[0;34m.\u001b[0m\u001b[0mtime\u001b[0m\u001b[0;34m(\u001b[0m\u001b[0;34m)\u001b[0m\u001b[0;34m\u001b[0m\u001b[0;34m\u001b[0m\u001b[0m\n\u001b[0;32m---> 98\u001b[0;31m \u001b[0mgenerate_and_populate_clues\u001b[0m\u001b[0;34m(\u001b[0m\u001b[0;34m)\u001b[0m\u001b[0;34m\u001b[0m\u001b[0;34m\u001b[0m\u001b[0m\n\u001b[0m\u001b[1;32m     99\u001b[0m \u001b[0mend_time\u001b[0m \u001b[0;34m=\u001b[0m \u001b[0mtime\u001b[0m\u001b[0;34m.\u001b[0m\u001b[0mtime\u001b[0m\u001b[0;34m(\u001b[0m\u001b[0;34m)\u001b[0m\u001b[0;34m\u001b[0m\u001b[0;34m\u001b[0m\u001b[0m\n\u001b[1;32m    100\u001b[0m \u001b[0mtotal_duration\u001b[0m \u001b[0;34m=\u001b[0m \u001b[0mend_time\u001b[0m \u001b[0;34m-\u001b[0m \u001b[0mstart_time\u001b[0m\u001b[0;34m\u001b[0m\u001b[0;34m\u001b[0m\u001b[0m\n",
            "\u001b[0;32m/tmp/ipython-input-4054336172.py\u001b[0m in \u001b[0;36mgenerate_and_populate_clues\u001b[0;34m()\u001b[0m\n\u001b[1;32m     67\u001b[0m             \u001b[0mstart_api_call_time\u001b[0m \u001b[0;34m=\u001b[0m \u001b[0mtime\u001b[0m\u001b[0;34m.\u001b[0m\u001b[0mtime\u001b[0m\u001b[0;34m(\u001b[0m\u001b[0;34m)\u001b[0m\u001b[0;34m\u001b[0m\u001b[0;34m\u001b[0m\u001b[0m\n\u001b[1;32m     68\u001b[0m             \u001b[0;31m# Increase the timeout for the API call\u001b[0m\u001b[0;34m\u001b[0m\u001b[0;34m\u001b[0m\u001b[0m\n\u001b[0;32m---> 69\u001b[0;31m             \u001b[0mresponse\u001b[0m \u001b[0;34m=\u001b[0m \u001b[0mmodel\u001b[0m\u001b[0;34m.\u001b[0m\u001b[0mgenerate_content\u001b[0m\u001b[0;34m(\u001b[0m\u001b[0mprompt\u001b[0m\u001b[0;34m,\u001b[0m \u001b[0mrequest_options\u001b[0m\u001b[0;34m=\u001b[0m\u001b[0;34m{\u001b[0m\u001b[0;34m'timeout'\u001b[0m\u001b[0;34m:\u001b[0m \u001b[0;36m1200\u001b[0m\u001b[0;34m}\u001b[0m\u001b[0;34m)\u001b[0m \u001b[0;31m# Increased timeout to 1200 seconds\u001b[0m\u001b[0;34m\u001b[0m\u001b[0;34m\u001b[0m\u001b[0m\n\u001b[0m\u001b[1;32m     70\u001b[0m             \u001b[0mend_api_call_time\u001b[0m \u001b[0;34m=\u001b[0m \u001b[0mtime\u001b[0m\u001b[0;34m.\u001b[0m\u001b[0mtime\u001b[0m\u001b[0;34m(\u001b[0m\u001b[0;34m)\u001b[0m\u001b[0;34m\u001b[0m\u001b[0;34m\u001b[0m\u001b[0m\n\u001b[1;32m     71\u001b[0m             \u001b[0mapi_call_duration\u001b[0m \u001b[0;34m=\u001b[0m \u001b[0mend_api_call_time\u001b[0m \u001b[0;34m-\u001b[0m \u001b[0mstart_api_call_time\u001b[0m\u001b[0;34m\u001b[0m\u001b[0;34m\u001b[0m\u001b[0m\n",
            "\u001b[0;32m/usr/local/lib/python3.12/dist-packages/google/generativeai/generative_models.py\u001b[0m in \u001b[0;36mgenerate_content\u001b[0;34m(self, contents, generation_config, safety_settings, stream, tools, tool_config, request_options)\u001b[0m\n\u001b[1;32m    329\u001b[0m                 \u001b[0;32mreturn\u001b[0m \u001b[0mgeneration_types\u001b[0m\u001b[0;34m.\u001b[0m\u001b[0mGenerateContentResponse\u001b[0m\u001b[0;34m.\u001b[0m\u001b[0mfrom_iterator\u001b[0m\u001b[0;34m(\u001b[0m\u001b[0miterator\u001b[0m\u001b[0;34m)\u001b[0m\u001b[0;34m\u001b[0m\u001b[0;34m\u001b[0m\u001b[0m\n\u001b[1;32m    330\u001b[0m             \u001b[0;32melse\u001b[0m\u001b[0;34m:\u001b[0m\u001b[0;34m\u001b[0m\u001b[0;34m\u001b[0m\u001b[0m\n\u001b[0;32m--> 331\u001b[0;31m                 response = self._client.generate_content(\n\u001b[0m\u001b[1;32m    332\u001b[0m                     \u001b[0mrequest\u001b[0m\u001b[0;34m,\u001b[0m\u001b[0;34m\u001b[0m\u001b[0;34m\u001b[0m\u001b[0m\n\u001b[1;32m    333\u001b[0m                     \u001b[0;34m**\u001b[0m\u001b[0mrequest_options\u001b[0m\u001b[0;34m,\u001b[0m\u001b[0;34m\u001b[0m\u001b[0;34m\u001b[0m\u001b[0m\n",
            "\u001b[0;32m/usr/local/lib/python3.12/dist-packages/google/ai/generativelanguage_v1beta/services/generative_service/client.py\u001b[0m in \u001b[0;36mgenerate_content\u001b[0;34m(self, request, model, contents, retry, timeout, metadata)\u001b[0m\n\u001b[1;32m    833\u001b[0m \u001b[0;34m\u001b[0m\u001b[0m\n\u001b[1;32m    834\u001b[0m         \u001b[0;31m# Send the request.\u001b[0m\u001b[0;34m\u001b[0m\u001b[0;34m\u001b[0m\u001b[0m\n\u001b[0;32m--> 835\u001b[0;31m         response = rpc(\n\u001b[0m\u001b[1;32m    836\u001b[0m             \u001b[0mrequest\u001b[0m\u001b[0;34m,\u001b[0m\u001b[0;34m\u001b[0m\u001b[0;34m\u001b[0m\u001b[0m\n\u001b[1;32m    837\u001b[0m             \u001b[0mretry\u001b[0m\u001b[0;34m=\u001b[0m\u001b[0mretry\u001b[0m\u001b[0;34m,\u001b[0m\u001b[0;34m\u001b[0m\u001b[0;34m\u001b[0m\u001b[0m\n",
            "\u001b[0;32m/usr/local/lib/python3.12/dist-packages/google/api_core/gapic_v1/method.py\u001b[0m in \u001b[0;36m__call__\u001b[0;34m(self, timeout, retry, compression, *args, **kwargs)\u001b[0m\n\u001b[1;32m    129\u001b[0m             \u001b[0mkwargs\u001b[0m\u001b[0;34m[\u001b[0m\u001b[0;34m\"compression\"\u001b[0m\u001b[0;34m]\u001b[0m \u001b[0;34m=\u001b[0m \u001b[0mcompression\u001b[0m\u001b[0;34m\u001b[0m\u001b[0;34m\u001b[0m\u001b[0m\n\u001b[1;32m    130\u001b[0m \u001b[0;34m\u001b[0m\u001b[0m\n\u001b[0;32m--> 131\u001b[0;31m         \u001b[0;32mreturn\u001b[0m \u001b[0mwrapped_func\u001b[0m\u001b[0;34m(\u001b[0m\u001b[0;34m*\u001b[0m\u001b[0margs\u001b[0m\u001b[0;34m,\u001b[0m \u001b[0;34m**\u001b[0m\u001b[0mkwargs\u001b[0m\u001b[0;34m)\u001b[0m\u001b[0;34m\u001b[0m\u001b[0;34m\u001b[0m\u001b[0m\n\u001b[0m\u001b[1;32m    132\u001b[0m \u001b[0;34m\u001b[0m\u001b[0m\n\u001b[1;32m    133\u001b[0m \u001b[0;34m\u001b[0m\u001b[0m\n",
            "\u001b[0;32m/usr/local/lib/python3.12/dist-packages/google/api_core/retry/retry_unary.py\u001b[0m in \u001b[0;36mretry_wrapped_func\u001b[0;34m(*args, **kwargs)\u001b[0m\n\u001b[1;32m    292\u001b[0m                 \u001b[0mself\u001b[0m\u001b[0;34m.\u001b[0m\u001b[0m_initial\u001b[0m\u001b[0;34m,\u001b[0m \u001b[0mself\u001b[0m\u001b[0;34m.\u001b[0m\u001b[0m_maximum\u001b[0m\u001b[0;34m,\u001b[0m \u001b[0mmultiplier\u001b[0m\u001b[0;34m=\u001b[0m\u001b[0mself\u001b[0m\u001b[0;34m.\u001b[0m\u001b[0m_multiplier\u001b[0m\u001b[0;34m\u001b[0m\u001b[0;34m\u001b[0m\u001b[0m\n\u001b[1;32m    293\u001b[0m             )\n\u001b[0;32m--> 294\u001b[0;31m             return retry_target(\n\u001b[0m\u001b[1;32m    295\u001b[0m                 \u001b[0mtarget\u001b[0m\u001b[0;34m,\u001b[0m\u001b[0;34m\u001b[0m\u001b[0;34m\u001b[0m\u001b[0m\n\u001b[1;32m    296\u001b[0m                 \u001b[0mself\u001b[0m\u001b[0;34m.\u001b[0m\u001b[0m_predicate\u001b[0m\u001b[0;34m,\u001b[0m\u001b[0;34m\u001b[0m\u001b[0;34m\u001b[0m\u001b[0m\n",
            "\u001b[0;32m/usr/local/lib/python3.12/dist-packages/google/api_core/retry/retry_unary.py\u001b[0m in \u001b[0;36mretry_target\u001b[0;34m(target, predicate, sleep_generator, timeout, on_error, exception_factory, **kwargs)\u001b[0m\n\u001b[1;32m    145\u001b[0m     \u001b[0;32mwhile\u001b[0m \u001b[0;32mTrue\u001b[0m\u001b[0;34m:\u001b[0m\u001b[0;34m\u001b[0m\u001b[0;34m\u001b[0m\u001b[0m\n\u001b[1;32m    146\u001b[0m         \u001b[0;32mtry\u001b[0m\u001b[0;34m:\u001b[0m\u001b[0;34m\u001b[0m\u001b[0;34m\u001b[0m\u001b[0m\n\u001b[0;32m--> 147\u001b[0;31m             \u001b[0mresult\u001b[0m \u001b[0;34m=\u001b[0m \u001b[0mtarget\u001b[0m\u001b[0;34m(\u001b[0m\u001b[0;34m)\u001b[0m\u001b[0;34m\u001b[0m\u001b[0;34m\u001b[0m\u001b[0m\n\u001b[0m\u001b[1;32m    148\u001b[0m             \u001b[0;32mif\u001b[0m \u001b[0minspect\u001b[0m\u001b[0;34m.\u001b[0m\u001b[0misawaitable\u001b[0m\u001b[0;34m(\u001b[0m\u001b[0mresult\u001b[0m\u001b[0;34m)\u001b[0m\u001b[0;34m:\u001b[0m\u001b[0;34m\u001b[0m\u001b[0;34m\u001b[0m\u001b[0m\n\u001b[1;32m    149\u001b[0m                 \u001b[0mwarnings\u001b[0m\u001b[0;34m.\u001b[0m\u001b[0mwarn\u001b[0m\u001b[0;34m(\u001b[0m\u001b[0m_ASYNC_RETRY_WARNING\u001b[0m\u001b[0;34m)\u001b[0m\u001b[0;34m\u001b[0m\u001b[0;34m\u001b[0m\u001b[0m\n",
            "\u001b[0;32m/usr/local/lib/python3.12/dist-packages/google/api_core/timeout.py\u001b[0m in \u001b[0;36mfunc_with_timeout\u001b[0;34m(*args, **kwargs)\u001b[0m\n\u001b[1;32m    128\u001b[0m                 \u001b[0mkwargs\u001b[0m\u001b[0;34m[\u001b[0m\u001b[0;34m\"timeout\"\u001b[0m\u001b[0;34m]\u001b[0m \u001b[0;34m=\u001b[0m \u001b[0mremaining_timeout\u001b[0m\u001b[0;34m\u001b[0m\u001b[0;34m\u001b[0m\u001b[0m\n\u001b[1;32m    129\u001b[0m \u001b[0;34m\u001b[0m\u001b[0m\n\u001b[0;32m--> 130\u001b[0;31m             \u001b[0;32mreturn\u001b[0m \u001b[0mfunc\u001b[0m\u001b[0;34m(\u001b[0m\u001b[0;34m*\u001b[0m\u001b[0margs\u001b[0m\u001b[0;34m,\u001b[0m \u001b[0;34m**\u001b[0m\u001b[0mkwargs\u001b[0m\u001b[0;34m)\u001b[0m\u001b[0;34m\u001b[0m\u001b[0;34m\u001b[0m\u001b[0m\n\u001b[0m\u001b[1;32m    131\u001b[0m \u001b[0;34m\u001b[0m\u001b[0m\n\u001b[1;32m    132\u001b[0m         \u001b[0;32mreturn\u001b[0m \u001b[0mfunc_with_timeout\u001b[0m\u001b[0;34m\u001b[0m\u001b[0;34m\u001b[0m\u001b[0m\n",
            "\u001b[0;32m/usr/local/lib/python3.12/dist-packages/google/api_core/grpc_helpers.py\u001b[0m in \u001b[0;36merror_remapped_callable\u001b[0;34m(*args, **kwargs)\u001b[0m\n\u001b[1;32m     74\u001b[0m     \u001b[0;32mdef\u001b[0m \u001b[0merror_remapped_callable\u001b[0m\u001b[0;34m(\u001b[0m\u001b[0;34m*\u001b[0m\u001b[0margs\u001b[0m\u001b[0;34m,\u001b[0m \u001b[0;34m**\u001b[0m\u001b[0mkwargs\u001b[0m\u001b[0;34m)\u001b[0m\u001b[0;34m:\u001b[0m\u001b[0;34m\u001b[0m\u001b[0;34m\u001b[0m\u001b[0m\n\u001b[1;32m     75\u001b[0m         \u001b[0;32mtry\u001b[0m\u001b[0;34m:\u001b[0m\u001b[0;34m\u001b[0m\u001b[0;34m\u001b[0m\u001b[0m\n\u001b[0;32m---> 76\u001b[0;31m             \u001b[0;32mreturn\u001b[0m \u001b[0mcallable_\u001b[0m\u001b[0;34m(\u001b[0m\u001b[0;34m*\u001b[0m\u001b[0margs\u001b[0m\u001b[0;34m,\u001b[0m \u001b[0;34m**\u001b[0m\u001b[0mkwargs\u001b[0m\u001b[0;34m)\u001b[0m\u001b[0;34m\u001b[0m\u001b[0;34m\u001b[0m\u001b[0m\n\u001b[0m\u001b[1;32m     77\u001b[0m         \u001b[0;32mexcept\u001b[0m \u001b[0mgrpc\u001b[0m\u001b[0;34m.\u001b[0m\u001b[0mRpcError\u001b[0m \u001b[0;32mas\u001b[0m \u001b[0mexc\u001b[0m\u001b[0;34m:\u001b[0m\u001b[0;34m\u001b[0m\u001b[0;34m\u001b[0m\u001b[0m\n\u001b[1;32m     78\u001b[0m             \u001b[0;32mraise\u001b[0m \u001b[0mexceptions\u001b[0m\u001b[0;34m.\u001b[0m\u001b[0mfrom_grpc_error\u001b[0m\u001b[0;34m(\u001b[0m\u001b[0mexc\u001b[0m\u001b[0;34m)\u001b[0m \u001b[0;32mfrom\u001b[0m \u001b[0mexc\u001b[0m\u001b[0;34m\u001b[0m\u001b[0;34m\u001b[0m\u001b[0m\n",
            "\u001b[0;32m/usr/local/lib/python3.12/dist-packages/google/ai/generativelanguage_v1beta/services/generative_service/transports/rest.py\u001b[0m in \u001b[0;36m__call__\u001b[0;34m(self, request, retry, timeout, metadata)\u001b[0m\n\u001b[1;32m   1146\u001b[0m \u001b[0;34m\u001b[0m\u001b[0m\n\u001b[1;32m   1147\u001b[0m             \u001b[0;31m# Send the request\u001b[0m\u001b[0;34m\u001b[0m\u001b[0;34m\u001b[0m\u001b[0m\n\u001b[0;32m-> 1148\u001b[0;31m             response = GenerativeServiceRestTransport._GenerateContent._get_response(\n\u001b[0m\u001b[1;32m   1149\u001b[0m                 \u001b[0mself\u001b[0m\u001b[0;34m.\u001b[0m\u001b[0m_host\u001b[0m\u001b[0;34m,\u001b[0m\u001b[0;34m\u001b[0m\u001b[0;34m\u001b[0m\u001b[0m\n\u001b[1;32m   1150\u001b[0m                 \u001b[0mmetadata\u001b[0m\u001b[0;34m,\u001b[0m\u001b[0;34m\u001b[0m\u001b[0;34m\u001b[0m\u001b[0m\n",
            "\u001b[0;32m/usr/local/lib/python3.12/dist-packages/google/ai/generativelanguage_v1beta/services/generative_service/transports/rest.py\u001b[0m in \u001b[0;36m_get_response\u001b[0;34m(host, metadata, query_params, session, timeout, transcoded_request, body)\u001b[0m\n\u001b[1;32m   1046\u001b[0m             \u001b[0mheaders\u001b[0m \u001b[0;34m=\u001b[0m \u001b[0mdict\u001b[0m\u001b[0;34m(\u001b[0m\u001b[0mmetadata\u001b[0m\u001b[0;34m)\u001b[0m\u001b[0;34m\u001b[0m\u001b[0;34m\u001b[0m\u001b[0m\n\u001b[1;32m   1047\u001b[0m             \u001b[0mheaders\u001b[0m\u001b[0;34m[\u001b[0m\u001b[0;34m\"Content-Type\"\u001b[0m\u001b[0;34m]\u001b[0m \u001b[0;34m=\u001b[0m \u001b[0;34m\"application/json\"\u001b[0m\u001b[0;34m\u001b[0m\u001b[0;34m\u001b[0m\u001b[0m\n\u001b[0;32m-> 1048\u001b[0;31m             response = getattr(session, method)(\n\u001b[0m\u001b[1;32m   1049\u001b[0m                 \u001b[0;34m\"{host}{uri}\"\u001b[0m\u001b[0;34m.\u001b[0m\u001b[0mformat\u001b[0m\u001b[0;34m(\u001b[0m\u001b[0mhost\u001b[0m\u001b[0;34m=\u001b[0m\u001b[0mhost\u001b[0m\u001b[0;34m,\u001b[0m \u001b[0muri\u001b[0m\u001b[0;34m=\u001b[0m\u001b[0muri\u001b[0m\u001b[0;34m)\u001b[0m\u001b[0;34m,\u001b[0m\u001b[0;34m\u001b[0m\u001b[0;34m\u001b[0m\u001b[0m\n\u001b[1;32m   1050\u001b[0m                 \u001b[0mtimeout\u001b[0m\u001b[0;34m=\u001b[0m\u001b[0mtimeout\u001b[0m\u001b[0;34m,\u001b[0m\u001b[0;34m\u001b[0m\u001b[0;34m\u001b[0m\u001b[0m\n",
            "\u001b[0;32m/usr/local/lib/python3.12/dist-packages/requests/sessions.py\u001b[0m in \u001b[0;36mpost\u001b[0;34m(self, url, data, json, **kwargs)\u001b[0m\n\u001b[1;32m    635\u001b[0m         \"\"\"\n\u001b[1;32m    636\u001b[0m \u001b[0;34m\u001b[0m\u001b[0m\n\u001b[0;32m--> 637\u001b[0;31m         \u001b[0;32mreturn\u001b[0m \u001b[0mself\u001b[0m\u001b[0;34m.\u001b[0m\u001b[0mrequest\u001b[0m\u001b[0;34m(\u001b[0m\u001b[0;34m\"POST\"\u001b[0m\u001b[0;34m,\u001b[0m \u001b[0murl\u001b[0m\u001b[0;34m,\u001b[0m \u001b[0mdata\u001b[0m\u001b[0;34m=\u001b[0m\u001b[0mdata\u001b[0m\u001b[0;34m,\u001b[0m \u001b[0mjson\u001b[0m\u001b[0;34m=\u001b[0m\u001b[0mjson\u001b[0m\u001b[0;34m,\u001b[0m \u001b[0;34m**\u001b[0m\u001b[0mkwargs\u001b[0m\u001b[0;34m)\u001b[0m\u001b[0;34m\u001b[0m\u001b[0;34m\u001b[0m\u001b[0m\n\u001b[0m\u001b[1;32m    638\u001b[0m \u001b[0;34m\u001b[0m\u001b[0m\n\u001b[1;32m    639\u001b[0m     \u001b[0;32mdef\u001b[0m \u001b[0mput\u001b[0m\u001b[0;34m(\u001b[0m\u001b[0mself\u001b[0m\u001b[0;34m,\u001b[0m \u001b[0murl\u001b[0m\u001b[0;34m,\u001b[0m \u001b[0mdata\u001b[0m\u001b[0;34m=\u001b[0m\u001b[0;32mNone\u001b[0m\u001b[0;34m,\u001b[0m \u001b[0;34m**\u001b[0m\u001b[0mkwargs\u001b[0m\u001b[0;34m)\u001b[0m\u001b[0;34m:\u001b[0m\u001b[0;34m\u001b[0m\u001b[0;34m\u001b[0m\u001b[0m\n",
            "\u001b[0;32m/usr/local/lib/python3.12/dist-packages/google/auth/transport/requests.py\u001b[0m in \u001b[0;36mrequest\u001b[0;34m(self, method, url, data, headers, max_allowed_time, timeout, **kwargs)\u001b[0m\n\u001b[1;32m    535\u001b[0m \u001b[0;34m\u001b[0m\u001b[0m\n\u001b[1;32m    536\u001b[0m         \u001b[0;32mwith\u001b[0m \u001b[0mTimeoutGuard\u001b[0m\u001b[0;34m(\u001b[0m\u001b[0mremaining_time\u001b[0m\u001b[0;34m)\u001b[0m \u001b[0;32mas\u001b[0m \u001b[0mguard\u001b[0m\u001b[0;34m:\u001b[0m\u001b[0;34m\u001b[0m\u001b[0;34m\u001b[0m\u001b[0m\n\u001b[0;32m--> 537\u001b[0;31m             response = super(AuthorizedSession, self).request(\n\u001b[0m\u001b[1;32m    538\u001b[0m                 \u001b[0mmethod\u001b[0m\u001b[0;34m,\u001b[0m\u001b[0;34m\u001b[0m\u001b[0;34m\u001b[0m\u001b[0m\n\u001b[1;32m    539\u001b[0m                 \u001b[0murl\u001b[0m\u001b[0;34m,\u001b[0m\u001b[0;34m\u001b[0m\u001b[0;34m\u001b[0m\u001b[0m\n",
            "\u001b[0;32m/usr/local/lib/python3.12/dist-packages/requests/sessions.py\u001b[0m in \u001b[0;36mrequest\u001b[0;34m(self, method, url, params, data, headers, cookies, files, auth, timeout, allow_redirects, proxies, hooks, stream, verify, cert, json)\u001b[0m\n\u001b[1;32m    587\u001b[0m         }\n\u001b[1;32m    588\u001b[0m         \u001b[0msend_kwargs\u001b[0m\u001b[0;34m.\u001b[0m\u001b[0mupdate\u001b[0m\u001b[0;34m(\u001b[0m\u001b[0msettings\u001b[0m\u001b[0;34m)\u001b[0m\u001b[0;34m\u001b[0m\u001b[0;34m\u001b[0m\u001b[0m\n\u001b[0;32m--> 589\u001b[0;31m         \u001b[0mresp\u001b[0m \u001b[0;34m=\u001b[0m \u001b[0mself\u001b[0m\u001b[0;34m.\u001b[0m\u001b[0msend\u001b[0m\u001b[0;34m(\u001b[0m\u001b[0mprep\u001b[0m\u001b[0;34m,\u001b[0m \u001b[0;34m**\u001b[0m\u001b[0msend_kwargs\u001b[0m\u001b[0;34m)\u001b[0m\u001b[0;34m\u001b[0m\u001b[0;34m\u001b[0m\u001b[0m\n\u001b[0m\u001b[1;32m    590\u001b[0m \u001b[0;34m\u001b[0m\u001b[0m\n\u001b[1;32m    591\u001b[0m         \u001b[0;32mreturn\u001b[0m \u001b[0mresp\u001b[0m\u001b[0;34m\u001b[0m\u001b[0;34m\u001b[0m\u001b[0m\n",
            "\u001b[0;32m/usr/local/lib/python3.12/dist-packages/requests/sessions.py\u001b[0m in \u001b[0;36msend\u001b[0;34m(self, request, **kwargs)\u001b[0m\n\u001b[1;32m    701\u001b[0m \u001b[0;34m\u001b[0m\u001b[0m\n\u001b[1;32m    702\u001b[0m         \u001b[0;31m# Send the request\u001b[0m\u001b[0;34m\u001b[0m\u001b[0;34m\u001b[0m\u001b[0m\n\u001b[0;32m--> 703\u001b[0;31m         \u001b[0mr\u001b[0m \u001b[0;34m=\u001b[0m \u001b[0madapter\u001b[0m\u001b[0;34m.\u001b[0m\u001b[0msend\u001b[0m\u001b[0;34m(\u001b[0m\u001b[0mrequest\u001b[0m\u001b[0;34m,\u001b[0m \u001b[0;34m**\u001b[0m\u001b[0mkwargs\u001b[0m\u001b[0;34m)\u001b[0m\u001b[0;34m\u001b[0m\u001b[0;34m\u001b[0m\u001b[0m\n\u001b[0m\u001b[1;32m    704\u001b[0m \u001b[0;34m\u001b[0m\u001b[0m\n\u001b[1;32m    705\u001b[0m         \u001b[0;31m# Total elapsed time of the request (approximately)\u001b[0m\u001b[0;34m\u001b[0m\u001b[0;34m\u001b[0m\u001b[0m\n",
            "\u001b[0;32m/usr/local/lib/python3.12/dist-packages/requests/adapters.py\u001b[0m in \u001b[0;36msend\u001b[0;34m(self, request, stream, timeout, verify, cert, proxies)\u001b[0m\n\u001b[1;32m    665\u001b[0m \u001b[0;34m\u001b[0m\u001b[0m\n\u001b[1;32m    666\u001b[0m         \u001b[0;32mtry\u001b[0m\u001b[0;34m:\u001b[0m\u001b[0;34m\u001b[0m\u001b[0;34m\u001b[0m\u001b[0m\n\u001b[0;32m--> 667\u001b[0;31m             resp = conn.urlopen(\n\u001b[0m\u001b[1;32m    668\u001b[0m                 \u001b[0mmethod\u001b[0m\u001b[0;34m=\u001b[0m\u001b[0mrequest\u001b[0m\u001b[0;34m.\u001b[0m\u001b[0mmethod\u001b[0m\u001b[0;34m,\u001b[0m\u001b[0;34m\u001b[0m\u001b[0;34m\u001b[0m\u001b[0m\n\u001b[1;32m    669\u001b[0m                 \u001b[0murl\u001b[0m\u001b[0;34m=\u001b[0m\u001b[0murl\u001b[0m\u001b[0;34m,\u001b[0m\u001b[0;34m\u001b[0m\u001b[0;34m\u001b[0m\u001b[0m\n",
            "\u001b[0;32m/usr/local/lib/python3.12/dist-packages/urllib3/connectionpool.py\u001b[0m in \u001b[0;36murlopen\u001b[0;34m(self, method, url, body, headers, retries, redirect, assert_same_host, timeout, pool_timeout, release_conn, chunked, body_pos, preload_content, decode_content, **response_kw)\u001b[0m\n\u001b[1;32m    785\u001b[0m \u001b[0;34m\u001b[0m\u001b[0m\n\u001b[1;32m    786\u001b[0m             \u001b[0;31m# Make the request on the HTTPConnection object\u001b[0m\u001b[0;34m\u001b[0m\u001b[0;34m\u001b[0m\u001b[0m\n\u001b[0;32m--> 787\u001b[0;31m             response = self._make_request(\n\u001b[0m\u001b[1;32m    788\u001b[0m                 \u001b[0mconn\u001b[0m\u001b[0;34m,\u001b[0m\u001b[0;34m\u001b[0m\u001b[0;34m\u001b[0m\u001b[0m\n\u001b[1;32m    789\u001b[0m                 \u001b[0mmethod\u001b[0m\u001b[0;34m,\u001b[0m\u001b[0;34m\u001b[0m\u001b[0;34m\u001b[0m\u001b[0m\n",
            "\u001b[0;32m/usr/local/lib/python3.12/dist-packages/urllib3/connectionpool.py\u001b[0m in \u001b[0;36m_make_request\u001b[0;34m(self, conn, method, url, body, headers, retries, timeout, chunked, response_conn, preload_content, decode_content, enforce_content_length)\u001b[0m\n\u001b[1;32m    532\u001b[0m         \u001b[0;31m# Receive the response from the server\u001b[0m\u001b[0;34m\u001b[0m\u001b[0;34m\u001b[0m\u001b[0m\n\u001b[1;32m    533\u001b[0m         \u001b[0;32mtry\u001b[0m\u001b[0;34m:\u001b[0m\u001b[0;34m\u001b[0m\u001b[0;34m\u001b[0m\u001b[0m\n\u001b[0;32m--> 534\u001b[0;31m             \u001b[0mresponse\u001b[0m \u001b[0;34m=\u001b[0m \u001b[0mconn\u001b[0m\u001b[0;34m.\u001b[0m\u001b[0mgetresponse\u001b[0m\u001b[0;34m(\u001b[0m\u001b[0;34m)\u001b[0m\u001b[0;34m\u001b[0m\u001b[0;34m\u001b[0m\u001b[0m\n\u001b[0m\u001b[1;32m    535\u001b[0m         \u001b[0;32mexcept\u001b[0m \u001b[0;34m(\u001b[0m\u001b[0mBaseSSLError\u001b[0m\u001b[0;34m,\u001b[0m \u001b[0mOSError\u001b[0m\u001b[0;34m)\u001b[0m \u001b[0;32mas\u001b[0m \u001b[0me\u001b[0m\u001b[0;34m:\u001b[0m\u001b[0;34m\u001b[0m\u001b[0;34m\u001b[0m\u001b[0m\n\u001b[1;32m    536\u001b[0m             \u001b[0mself\u001b[0m\u001b[0;34m.\u001b[0m\u001b[0m_raise_timeout\u001b[0m\u001b[0;34m(\u001b[0m\u001b[0merr\u001b[0m\u001b[0;34m=\u001b[0m\u001b[0me\u001b[0m\u001b[0;34m,\u001b[0m \u001b[0murl\u001b[0m\u001b[0;34m=\u001b[0m\u001b[0murl\u001b[0m\u001b[0;34m,\u001b[0m \u001b[0mtimeout_value\u001b[0m\u001b[0;34m=\u001b[0m\u001b[0mread_timeout\u001b[0m\u001b[0;34m)\u001b[0m\u001b[0;34m\u001b[0m\u001b[0;34m\u001b[0m\u001b[0m\n",
            "\u001b[0;32m/usr/local/lib/python3.12/dist-packages/urllib3/connection.py\u001b[0m in \u001b[0;36mgetresponse\u001b[0;34m(self)\u001b[0m\n\u001b[1;32m    563\u001b[0m \u001b[0;34m\u001b[0m\u001b[0m\n\u001b[1;32m    564\u001b[0m         \u001b[0;31m# Get the response from http.client.HTTPConnection\u001b[0m\u001b[0;34m\u001b[0m\u001b[0;34m\u001b[0m\u001b[0m\n\u001b[0;32m--> 565\u001b[0;31m         \u001b[0mhttplib_response\u001b[0m \u001b[0;34m=\u001b[0m \u001b[0msuper\u001b[0m\u001b[0;34m(\u001b[0m\u001b[0;34m)\u001b[0m\u001b[0;34m.\u001b[0m\u001b[0mgetresponse\u001b[0m\u001b[0;34m(\u001b[0m\u001b[0;34m)\u001b[0m\u001b[0;34m\u001b[0m\u001b[0;34m\u001b[0m\u001b[0m\n\u001b[0m\u001b[1;32m    566\u001b[0m \u001b[0;34m\u001b[0m\u001b[0m\n\u001b[1;32m    567\u001b[0m         \u001b[0;32mtry\u001b[0m\u001b[0;34m:\u001b[0m\u001b[0;34m\u001b[0m\u001b[0;34m\u001b[0m\u001b[0m\n",
            "\u001b[0;32m/usr/lib/python3.12/http/client.py\u001b[0m in \u001b[0;36mgetresponse\u001b[0;34m(self)\u001b[0m\n\u001b[1;32m   1428\u001b[0m         \u001b[0;32mtry\u001b[0m\u001b[0;34m:\u001b[0m\u001b[0;34m\u001b[0m\u001b[0;34m\u001b[0m\u001b[0m\n\u001b[1;32m   1429\u001b[0m             \u001b[0;32mtry\u001b[0m\u001b[0;34m:\u001b[0m\u001b[0;34m\u001b[0m\u001b[0;34m\u001b[0m\u001b[0m\n\u001b[0;32m-> 1430\u001b[0;31m                 \u001b[0mresponse\u001b[0m\u001b[0;34m.\u001b[0m\u001b[0mbegin\u001b[0m\u001b[0;34m(\u001b[0m\u001b[0;34m)\u001b[0m\u001b[0;34m\u001b[0m\u001b[0;34m\u001b[0m\u001b[0m\n\u001b[0m\u001b[1;32m   1431\u001b[0m             \u001b[0;32mexcept\u001b[0m \u001b[0mConnectionError\u001b[0m\u001b[0;34m:\u001b[0m\u001b[0;34m\u001b[0m\u001b[0;34m\u001b[0m\u001b[0m\n\u001b[1;32m   1432\u001b[0m                 \u001b[0mself\u001b[0m\u001b[0;34m.\u001b[0m\u001b[0mclose\u001b[0m\u001b[0;34m(\u001b[0m\u001b[0;34m)\u001b[0m\u001b[0;34m\u001b[0m\u001b[0;34m\u001b[0m\u001b[0m\n",
            "\u001b[0;32m/usr/lib/python3.12/http/client.py\u001b[0m in \u001b[0;36mbegin\u001b[0;34m(self)\u001b[0m\n\u001b[1;32m    329\u001b[0m         \u001b[0;31m# read until we get a non-100 response\u001b[0m\u001b[0;34m\u001b[0m\u001b[0;34m\u001b[0m\u001b[0m\n\u001b[1;32m    330\u001b[0m         \u001b[0;32mwhile\u001b[0m \u001b[0;32mTrue\u001b[0m\u001b[0;34m:\u001b[0m\u001b[0;34m\u001b[0m\u001b[0;34m\u001b[0m\u001b[0m\n\u001b[0;32m--> 331\u001b[0;31m             \u001b[0mversion\u001b[0m\u001b[0;34m,\u001b[0m \u001b[0mstatus\u001b[0m\u001b[0;34m,\u001b[0m \u001b[0mreason\u001b[0m \u001b[0;34m=\u001b[0m \u001b[0mself\u001b[0m\u001b[0;34m.\u001b[0m\u001b[0m_read_status\u001b[0m\u001b[0;34m(\u001b[0m\u001b[0;34m)\u001b[0m\u001b[0;34m\u001b[0m\u001b[0;34m\u001b[0m\u001b[0m\n\u001b[0m\u001b[1;32m    332\u001b[0m             \u001b[0;32mif\u001b[0m \u001b[0mstatus\u001b[0m \u001b[0;34m!=\u001b[0m \u001b[0mCONTINUE\u001b[0m\u001b[0;34m:\u001b[0m\u001b[0;34m\u001b[0m\u001b[0;34m\u001b[0m\u001b[0m\n\u001b[1;32m    333\u001b[0m                 \u001b[0;32mbreak\u001b[0m\u001b[0;34m\u001b[0m\u001b[0;34m\u001b[0m\u001b[0m\n",
            "\u001b[0;32m/usr/lib/python3.12/http/client.py\u001b[0m in \u001b[0;36m_read_status\u001b[0;34m(self)\u001b[0m\n\u001b[1;32m    290\u001b[0m \u001b[0;34m\u001b[0m\u001b[0m\n\u001b[1;32m    291\u001b[0m     \u001b[0;32mdef\u001b[0m \u001b[0m_read_status\u001b[0m\u001b[0;34m(\u001b[0m\u001b[0mself\u001b[0m\u001b[0;34m)\u001b[0m\u001b[0;34m:\u001b[0m\u001b[0;34m\u001b[0m\u001b[0;34m\u001b[0m\u001b[0m\n\u001b[0;32m--> 292\u001b[0;31m         \u001b[0mline\u001b[0m \u001b[0;34m=\u001b[0m \u001b[0mstr\u001b[0m\u001b[0;34m(\u001b[0m\u001b[0mself\u001b[0m\u001b[0;34m.\u001b[0m\u001b[0mfp\u001b[0m\u001b[0;34m.\u001b[0m\u001b[0mreadline\u001b[0m\u001b[0;34m(\u001b[0m\u001b[0m_MAXLINE\u001b[0m \u001b[0;34m+\u001b[0m \u001b[0;36m1\u001b[0m\u001b[0;34m)\u001b[0m\u001b[0;34m,\u001b[0m \u001b[0;34m\"iso-8859-1\"\u001b[0m\u001b[0;34m)\u001b[0m\u001b[0;34m\u001b[0m\u001b[0;34m\u001b[0m\u001b[0m\n\u001b[0m\u001b[1;32m    293\u001b[0m         \u001b[0;32mif\u001b[0m \u001b[0mlen\u001b[0m\u001b[0;34m(\u001b[0m\u001b[0mline\u001b[0m\u001b[0;34m)\u001b[0m \u001b[0;34m>\u001b[0m \u001b[0m_MAXLINE\u001b[0m\u001b[0;34m:\u001b[0m\u001b[0;34m\u001b[0m\u001b[0;34m\u001b[0m\u001b[0m\n\u001b[1;32m    294\u001b[0m             \u001b[0;32mraise\u001b[0m \u001b[0mLineTooLong\u001b[0m\u001b[0;34m(\u001b[0m\u001b[0;34m\"status line\"\u001b[0m\u001b[0;34m)\u001b[0m\u001b[0;34m\u001b[0m\u001b[0;34m\u001b[0m\u001b[0m\n",
            "\u001b[0;32m/usr/lib/python3.12/socket.py\u001b[0m in \u001b[0;36mreadinto\u001b[0;34m(self, b)\u001b[0m\n\u001b[1;32m    718\u001b[0m         \u001b[0;32mwhile\u001b[0m \u001b[0;32mTrue\u001b[0m\u001b[0;34m:\u001b[0m\u001b[0;34m\u001b[0m\u001b[0;34m\u001b[0m\u001b[0m\n\u001b[1;32m    719\u001b[0m             \u001b[0;32mtry\u001b[0m\u001b[0;34m:\u001b[0m\u001b[0;34m\u001b[0m\u001b[0;34m\u001b[0m\u001b[0m\n\u001b[0;32m--> 720\u001b[0;31m                 \u001b[0;32mreturn\u001b[0m \u001b[0mself\u001b[0m\u001b[0;34m.\u001b[0m\u001b[0m_sock\u001b[0m\u001b[0;34m.\u001b[0m\u001b[0mrecv_into\u001b[0m\u001b[0;34m(\u001b[0m\u001b[0mb\u001b[0m\u001b[0;34m)\u001b[0m\u001b[0;34m\u001b[0m\u001b[0;34m\u001b[0m\u001b[0m\n\u001b[0m\u001b[1;32m    721\u001b[0m             \u001b[0;32mexcept\u001b[0m \u001b[0mtimeout\u001b[0m\u001b[0;34m:\u001b[0m\u001b[0;34m\u001b[0m\u001b[0;34m\u001b[0m\u001b[0m\n\u001b[1;32m    722\u001b[0m                 \u001b[0mself\u001b[0m\u001b[0;34m.\u001b[0m\u001b[0m_timeout_occurred\u001b[0m \u001b[0;34m=\u001b[0m \u001b[0;32mTrue\u001b[0m\u001b[0;34m\u001b[0m\u001b[0;34m\u001b[0m\u001b[0m\n",
            "\u001b[0;31mKeyboardInterrupt\u001b[0m: "
          ]
        }
      ]
    }
  ]
}